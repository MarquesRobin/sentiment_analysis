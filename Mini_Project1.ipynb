{
 "cells": [
  {
   "cell_type": "markdown",
   "id": "a7a4b344-7278-40ae-ac34-c8b00a5ead8c",
   "metadata": {},
   "source": [
    "# **Mini Project 1**"
   ]
  },
  {
   "cell_type": "markdown",
   "id": "95ab955a-3c85-4b17-bbd4-25003c4bcc00",
   "metadata": {},
   "source": [
    "0. Requirements:\n",
    "   \n",
    "   If you do not have the following packages installed, run the command below to install them."
   ]
  },
  {
   "cell_type": "code",
   "execution_count": 15,
   "id": "088818d9-da0f-4444-8254-0517b30c0344",
   "metadata": {},
   "outputs": [],
   "source": [
    "# !pip install pandas\n",
    "# !pip install numpy\n",
    "# !pip install scikit-learn\n",
    "# !pip install matplotlib\n",
    "# !pip install seaborn\n",
    "# !pip install nltk\n",
    "# !pip install codecarbon\n",
    "# !pip install shap"
   ]
  },
  {
   "cell_type": "markdown",
   "id": "67299e6e-3164-4d60-856a-d67b172cc449",
   "metadata": {},
   "source": [
    "1. Data Preparation:\n",
    "   \n",
    "    Goal: Load and inspect the IMDb dataset containing movie reviews labeled with positive and negative sentiments.(https://ai.stanford.edu/%7Eamaas/data/sentiment/)\n",
    "    \n",
    "    Task: Read the dataset, store the reviews and their associated sentiments, and explore the dataset to understand its structure."
   ]
  },
  {
   "cell_type": "code",
   "execution_count": 25,
   "id": "ac27db4f-7b71-41a4-8d94-1a92cacd5c9b",
   "metadata": {},
   "outputs": [],
   "source": [
    "import os\n",
    "import pandas as pd\n",
    "import numpy as np\n",
    "import re\n",
    "import shap\n",
    "import seaborn as sns\n",
    "import matplotlib.pyplot as plt\n",
    "from nltk.corpus import stopwords # Importe la liste des \"stop words\" (mots vides) de la bibliothèque NLTK (Natural Language Toolkit)\n",
    "from nltk.stem import PorterStemmer # Importe la classe PorterStemmer de NLTK. Le stemming est un processus qui consiste à réduire les mots à leur racine (stem)\n",
    "from sklearn.feature_extraction.text import TfidfVectorizer\n",
    "from sklearn.model_selection import train_test_split, GridSearchCV, learning_curve\n",
    "from sklearn.linear_model import LogisticRegression\n",
    "from sklearn.metrics import classification_report, confusion_matrix\n",
    "from codecarbon import EmissionsTracker\n",
    "from nltk.stem import WordNetLemmatizer\n",
    "from bs4 import BeautifulSoup\n",
    "from sklearn.pipeline import Pipeline"
   ]
  },
  {
   "cell_type": "code",
   "execution_count": 26,
   "id": "fd23c874",
   "metadata": {},
   "outputs": [
    {
     "name": "stdout",
     "output_type": "stream",
     "text": [
      "\n",
      "Fonctions de chargement et d'affichage des données\n"
     ]
    }
   ],
   "source": [
    "# --- Fonction de chargement des données ---\n",
    "\n",
    "def load_movie_reviews(data_folder):\n",
    "    \"\"\"\n",
    "    Charge les critiques de films à partir d'une structure de dossiers\n",
    "    (pos/ et neg/) et les renvoie sous forme de DataFrame Pandas.\n",
    "\n",
    "    Args:\n",
    "        data_folder: Le chemin vers le dossier principal contenant les\n",
    "                     sous-dossiers 'pos' et 'neg'.\n",
    "\n",
    "    Returns:\n",
    "        Un DataFrame Pandas avec deux colonnes : 'review' (texte de la critique)\n",
    "        et 'sentiment' ('pos' ou 'neg').\n",
    "        Retourne None si une erreur se produit.\n",
    "    \"\"\"\n",
    "    reviews = []\n",
    "    sentiments = []\n",
    "\n",
    "    for sentiment in ['pos', 'neg']:\n",
    "        folder_path = os.path.join(data_folder, sentiment)  # Chemin complet vers pos/ ou neg/\n",
    "\n",
    "        if not os.path.isdir(folder_path):\n",
    "            print(f\"Erreur : Le dossier '{folder_path}' n'existe pas.\")\n",
    "            return None\n",
    "\n",
    "        for filename in os.listdir(folder_path):\n",
    "            if filename.endswith(\".txt\"):  # Traiter seulement les fichiers .txt\n",
    "                file_path = os.path.join(folder_path, filename)\n",
    "                try:\n",
    "                    with open(file_path, 'r', encoding='utf-8') as f:  # 'utf-8' pour gérer les accents\n",
    "                        review_text = f.read()\n",
    "                        reviews.append(review_text)\n",
    "                        sentiments.append(sentiment)\n",
    "                except FileNotFoundError:\n",
    "                    print(f\"Erreur: Fichier '{file_path}' introuvable (improbable).\")\n",
    "                    return None  # Tu peux choisir de continuer ou d'arrêter ici\n",
    "                except Exception as e:\n",
    "                    print(f\"Erreur lors de la lecture de '{file_path}': {e}\")\n",
    "                    return None\n",
    "\n",
    "    # Crée le DataFrame Pandas\n",
    "    df = pd.DataFrame({'review': reviews, 'sentiment': sentiments})\n",
    "    return df\n",
    "\n",
    "# --- Fonctions d'affichage ---\n",
    "\n",
    "def display_dataframe_info(df, num_reviews=1, example_index=0):\n",
    "    \"\"\"Affiche des informations complètes sur le DataFrame, y compris des exemples.\n",
    "\n",
    "    Args:\n",
    "        df: Le DataFrame Pandas à afficher.\n",
    "        num_reviews: Le nombre de premières lignes à afficher (head).\n",
    "        example_index: L'indice de la critique d'exemple à afficher.\n",
    "    \"\"\"\n",
    "    if df is None or df.empty:\n",
    "        print(\"Le DataFrame est vide ou None.\")\n",
    "        return\n",
    "\n",
    "    print(df.head(num_reviews))  # Affiche les n premières lignes\n",
    "    print(\"-\" * 20)\n",
    "    print(df.info())  # Informations générales (types, colonnes, etc.)\n",
    "    print(\"-\" * 20)\n",
    "    print(df['sentiment'].value_counts())  # Nombre de critiques par sentiment\n",
    "    print(\"-\" * 20)\n",
    "\n",
    "    if example_index < len(df):\n",
    "        print(f\"\\nExemple de critique (index {example_index}):\")\n",
    "        print(df['review'][example_index])\n",
    "        print(\"Sentiment associé:\", df['sentiment'][example_index])\n",
    "    else:\n",
    "        print(f\"L'index d'exemple {example_index} est en dehors des limites du DataFrame.\")\n",
    "\n",
    "def display_first_reviews(df, num_reviews=5):\n",
    "    \"\"\"Affiche les premières lignes (head) du DataFrame.\n",
    "\n",
    "    Args:\n",
    "        df: Le DataFrame Pandas à afficher.\n",
    "        num_reviews: Le nombre de premières lignes à afficher.\n",
    "    \"\"\"\n",
    "    if df is None or df.empty:\n",
    "        print(\"Le DataFrame est vide ou None.\")\n",
    "        return\n",
    "\n",
    "    print(df.head(num_reviews))\n",
    "\n",
    "print(\"\\nFonctions de chargement et d'affichage des données\")"
   ]
  },
  {
   "cell_type": "code",
   "execution_count": 27,
   "id": "c476fb67",
   "metadata": {},
   "outputs": [
    {
     "name": "stdout",
     "output_type": "stream",
     "text": [
      "Données :\n",
      "                                              review sentiment\n",
      "0  Zentropa is the most original movie I've seen ...       pos\n",
      "1  Busy is so amazing! I just loved every word sh...       pos\n",
      "2  Another good Stooge short!Christine McIntyre i...       pos\n",
      "3  This is a complex film that explores the effec...       pos\n",
      "4  This film has a special place in my heart, as ...       pos\n",
      "--------------------\n",
      "<class 'pandas.core.frame.DataFrame'>\n",
      "RangeIndex: 25000 entries, 0 to 24999\n",
      "Data columns (total 2 columns):\n",
      " #   Column     Non-Null Count  Dtype \n",
      "---  ------     --------------  ----- \n",
      " 0   review     25000 non-null  object\n",
      " 1   sentiment  25000 non-null  object\n",
      "dtypes: object(2)\n",
      "memory usage: 390.8+ KB\n",
      "None\n",
      "--------------------\n",
      "sentiment\n",
      "pos    12500\n",
      "neg    12500\n",
      "Name: count, dtype: int64\n",
      "--------------------\n",
      "\n",
      "Exemple de critique (index 0):\n",
      "Zentropa is the most original movie I've seen in years. If you like unique thrillers that are influenced by film noir, then this is just the right cure for all of those Hollywood summer blockbusters clogging the theaters these days. Von Trier's follow-ups like Breaking the Waves have gotten more acclaim, but this is really his best work. It is flashy without being distracting and offers the perfect combination of suspense and dark humor. It's too bad he decided handheld cameras were the wave of the future. It's hard to say who talked him away from the style he exhibits here, but it's everyone's loss that he went into his heavily theoretical dogma direction instead.\n",
      "Sentiment associé: pos\n"
     ]
    }
   ],
   "source": [
    "# Charger les données\n",
    "data_directory = \"database_full/train\"  \n",
    "movie_reviews_df = load_movie_reviews(data_directory)\n",
    "\n",
    "# Vérifier le contenu du DataFrame\n",
    "print(\"Données :\")\n",
    "display_dataframe_info(movie_reviews_df, num_reviews=5, example_index=0)"
   ]
  },
  {
   "cell_type": "code",
   "execution_count": 29,
   "id": "1260a5cd",
   "metadata": {},
   "outputs": [
    {
     "name": "stdout",
     "output_type": "stream",
     "text": [
      "Nombre de critiques positives (avant conversion) : 12500\n",
      "Nombre de critiques négatives (avant conversion) : 12500\n"
     ]
    }
   ],
   "source": [
    "def count_pos_strings(df):\n",
    "    \"\"\"\n",
    "    Compte le nombre de critiques positives ('pos') dans la colonne 'sentiment'\n",
    "    d'un DataFrame, AVANT la conversion en 0/1.\n",
    "\n",
    "    Args:\n",
    "        df: Le DataFrame contenant la colonne 'sentiment'.\n",
    "\n",
    "    Returns:\n",
    "        Le nombre de 'pos', ou None si la colonne 'sentiment' n'existe pas.\n",
    "    \"\"\"\n",
    "    if 'sentiment' not in df.columns:\n",
    "        print(\"Erreur : La colonne 'sentiment' est absente du DataFrame.\")\n",
    "        return None\n",
    "\n",
    "    return (df['sentiment'] == 'pos').sum()\n",
    "\n",
    "def count_neg_strings(df):\n",
    "    \"\"\"\n",
    "    Compte le nombre de critiques negative ('neg') dans la colonne 'sentiment'\n",
    "    d'un DataFrame, AVANT la conversion en 0/1.\n",
    "\n",
    "    Args:\n",
    "        df: Le DataFrame contenant la colonne 'sentiment'.\n",
    "\n",
    "    Returns:\n",
    "        Le nombre de 'pos', ou None si la colonne 'sentiment' n'existe pas.\n",
    "    \"\"\"\n",
    "    if 'sentiment' not in df.columns:\n",
    "        print(\"Erreur : La colonne 'sentiment' est absente du DataFrame.\")\n",
    "        return None\n",
    "\n",
    "    return (df['sentiment'] == 'neg').sum()\n",
    "\n",
    "num_pos = count_pos_strings(movie_reviews_df)\n",
    "if num_pos is not None:\n",
    "     print(\"Nombre de critiques positives (avant conversion) :\", num_pos)\n",
    "\n",
    "num_neg = count_neg_strings(movie_reviews_df)\n",
    "if num_neg is not None:\n",
    "    print(\"Nombre de critiques négatives (avant conversion) :\", num_neg)"
   ]
  },
  {
   "cell_type": "markdown",
   "id": "20d51ac0-9bee-470f-83d8-a124ad0aa846",
   "metadata": {},
   "source": [
    "2. Text Preprocessing:\n",
    "   \n",
    "    Goal: Clean and preprocess the text data to remove noise and prepare it for analysis.\n",
    "    \n",
    "    Task: Remove unnecessary characters (e.g., HTML tags, punctuation), convert text to lowercase, and process words by removing stop words and stemming/lemmatizing them."
   ]
  },
  {
   "cell_type": "code",
   "execution_count": 30,
   "id": "1ebde4d1-aa98-450a-b972-ef9a0c2f555a",
   "metadata": {},
   "outputs": [
    {
     "name": "stdout",
     "output_type": "stream",
     "text": [
      "\n",
      "Fonction de nettoyage des critiques d'entraînement\n"
     ]
    }
   ],
   "source": [
    "# --- Fonctions de nettoyage des données ---\n",
    "\n",
    "def remove_html_bs(text): # fonction pour supprimer les balises HTML\n",
    "    \"\"\"Supprime les balises HTML (avec BeautifulSoup).\"\"\"\n",
    "    try:\n",
    "        soup = BeautifulSoup(text, \"html.parser\")\n",
    "        return soup.get_text(separator=\" \")\n",
    "    except Exception as e:\n",
    "        print(f\"Erreur lors du nettoyage HTML : {e}\")\n",
    "        return \"\"\n",
    "\n",
    "def remove_special_characters(text): # fonction pour supprimer les caractères spéciaux\n",
    "    \"\"\"Supprime les caractères spéciaux et la ponctuation.\"\"\"\n",
    "    pattern = r\"[^a-zA-ZÀ-ÖØ-öø-ÿ0-9\\s]\"\n",
    "    cleaned_text = re.sub(pattern, \" \", text)\n",
    "    cleaned_text = re.sub(r'\\s+', ' ', cleaned_text).strip()\n",
    "    return cleaned_text\n",
    "\n",
    "def convert_to_lowercase(text): # fonction pour convertir les caractères en minuscules\n",
    "    \"\"\"Convertit une chaîne de caractères en minuscules.\"\"\"\n",
    "    return text.lower()\n",
    "\n",
    "def remove_stopwords(text): # fonction pour supprimer les mots vides\n",
    "    \"\"\"Supprime les mots vides (stop words) en utilisant NLTK.\"\"\"\n",
    "    stop_words = set(stopwords.words('english'))  # Important: Utilise 'english'\n",
    "    words = text.split()\n",
    "    filtered_words = [word for word in words if word.lower() not in stop_words]\n",
    "    return \" \".join(filtered_words) # Reconstruit la phrase\n",
    "\n",
    "def apply_stemming(text): # fonction pour appliquer le stemming\n",
    "    \"\"\"Applique le stemming (PorterStemmer) de NLTK.\"\"\"\n",
    "    stemmer = PorterStemmer()\n",
    "    words = text.split()\n",
    "    stemmed_words = [stemmer.stem(word) for word in words]\n",
    "    return \" \".join(stemmed_words)\n",
    "\n",
    "def apply_lemmatization(text): # fonction pour appliquer la lemmatisation\n",
    "    \"\"\"Applique la lemmatisation avec WordNetLemmatizer de NLTK.\"\"\"\n",
    "    lemmatizer = WordNetLemmatizer()\n",
    "    words = text.split()\n",
    "    lemmatized_words = [lemmatizer.lemmatize(word) for word in words]\n",
    "    return \" \".join(lemmatized_words)\n",
    "\n",
    "def clean_reviews(df):\n",
    "    \"\"\"\n",
    "    Nettoie un DataFrame de critiques (HTML, caractères spéciaux, minuscules, stop words, stemming/lemmatization).\n",
    "    Modifie le DataFrame en place.\n",
    "    \"\"\"\n",
    "    # Vérifie si le DataFrame est vide\n",
    "    if df.empty:\n",
    "        print(\"Erreur : Le DataFrame est vide. Impossible de le nettoyer.\")\n",
    "        return\n",
    "\n",
    "    # Vérifie si la colonne 'review' existe\n",
    "    if 'review' not in df.columns:\n",
    "        print(\"Erreur : La colonne 'review' est absente du DataFrame.\")\n",
    "        return\n",
    "\n",
    "    # Applique les fonctions de nettoyage, en séquence\n",
    "    df['review'] = df['review'].apply(remove_html_bs)\n",
    "    df['review'] = df['review'].apply(remove_special_characters)\n",
    "    df['review'] = df['review'].apply(convert_to_lowercase)\n",
    "    df['review'] = df['review'].apply(remove_stopwords)\n",
    "    df['review'] = df['review'].apply(apply_stemming)  # Optionnel : Stemming\n",
    "    df['review'] = df['review'].apply(apply_lemmatization) # Optionnel : Lemmatization\n",
    "\n",
    "    # La fonction ne retourne rien, car elle modifie le DataFrame directement\n",
    "\n",
    "print(\"\\nFonction de nettoyage des critiques d'entraînement\")"
   ]
  },
  {
   "cell_type": "code",
   "execution_count": 31,
   "id": "fa515c21",
   "metadata": {},
   "outputs": [
    {
     "name": "stderr",
     "output_type": "stream",
     "text": [
      "/tmp/ipykernel_52035/195796097.py:6: MarkupResemblesLocatorWarning: The input looks more like a filename than markup. You may want to open this file and pass the filehandle into Beautiful Soup.\n",
      "  soup = BeautifulSoup(text, \"html.parser\")\n"
     ]
    },
    {
     "name": "stdout",
     "output_type": "stream",
     "text": [
      "Donnees nettoyées :\n",
      "                                              review sentiment\n",
      "0  zentropa origin movi seen year like uniqu thri...       pos\n",
      "1  busi amaz love everi word ever done freak geek...       pos\n",
      "2  anoth good stoog short christin mcintyr love e...       pos\n",
      "3  complex film explor effect fordist taylorist m...       pos\n",
      "4  film special place heart caught first time tea...       pos\n"
     ]
    }
   ],
   "source": [
    "# === MAIN ===\n",
    "\n",
    "if movie_reviews_df is not None:\n",
    "    clean_reviews(movie_reviews_df)  # Nettoyage des données\n",
    "    print(\"Donnees nettoyées :\")\n",
    "    display_first_reviews(movie_reviews_df, num_reviews=5)\n"
   ]
  },
  {
   "cell_type": "code",
   "execution_count": 32,
   "id": "3e8a7ce3",
   "metadata": {},
   "outputs": [
    {
     "name": "stdout",
     "output_type": "stream",
     "text": [
      "Critiques d'entraînement nettoyées :\n",
      "                                              review  sentiment\n",
      "0  zentropa origin movi seen year like uniqu thri...          1\n",
      "1  busi amaz love everi word ever done freak geek...          1\n",
      "2  anoth good stoog short christin mcintyr love e...          1\n",
      "3  complex film explor effect fordist taylorist m...          1\n",
      "4  film special place heart caught first time tea...          1\n"
     ]
    },
    {
     "name": "stderr",
     "output_type": "stream",
     "text": [
      "/tmp/ipykernel_52035/1291899828.py:5: FutureWarning: Downcasting behavior in `replace` is deprecated and will be removed in a future version. To retain the old behavior, explicitly call `result.infer_objects(copy=False)`. To opt-in to the future behavior, set `pd.set_option('future.no_silent_downcasting', True)`\n",
      "  movie_reviews_df['sentiment'] = movie_reviews_df['sentiment'].replace({'pos': 1, 'neg': 0})\n"
     ]
    }
   ],
   "source": [
    "# === MAIN ===\n",
    "\n",
    "if movie_reviews_df is not None:\n",
    "    # Conversion des étiquettes en 0 et 1\n",
    "    movie_reviews_df['sentiment'] = movie_reviews_df['sentiment'].replace({'pos': 1, 'neg': 0})\n",
    "\n",
    "if movie_reviews_df is not None:\n",
    "    print(\"Critiques d'entraînement nettoyées :\")\n",
    "    display_first_reviews(movie_reviews_df, num_reviews=5)"
   ]
  },
  {
   "cell_type": "markdown",
   "id": "4dbff49f-7177-4dad-8138-a08ec1420c59",
   "metadata": {},
   "source": [
    "3. Feature Extraction:\n",
    "\n",
    "    Goal: Transform the cleaned text into numerical features for machine learning.\n",
    "   \n",
    "    Task: Use a vectorization technique such as TF-IDF to convert the text into a numerical matrix that captures the importance of each word in the dataset."
   ]
  },
  {
   "cell_type": "code",
   "execution_count": null,
   "id": "b77c2734-32dc-4899-bb4d-85140baecd20",
   "metadata": {},
   "outputs": [],
   "source": [
    "# --- Fonction de vectorisation TF-IDF ---\n",
    "\n",
    "def vectorize_reviews(df, max_features=5000, ngram_range=(1, 2)):\n",
    "    \"\"\"\n",
    "    Vectorise les critiques en utilisant TF-IDF.\n",
    "\n",
    "    Args:\n",
    "        df: Le DataFrame contenant les critiques nettoyées (colonne 'review').\n",
    "        max_features: Le nombre maximum de features (mots/n-grammes) à conserver.\n",
    "        ngram_range:  La plage de n-grammes à considérer (par défaut, unigrammes et bigrammes).\n",
    "\n",
    "    Returns:\n",
    "        Une matrice TF-IDF (sparse matrix) et le vectorizer utilisé.\n",
    "    \"\"\"\n",
    "    if 'review' not in df.columns:\n",
    "        print(\"Erreur : La colonne 'review' est absente du DataFrame.\")\n",
    "        return None, None\n",
    "\n",
    "    tfidf_vectorizer = TfidfVectorizer(\n",
    "        max_features=max_features,  # Limite le nombre de features\n",
    "        ngram_range=ngram_range,   # Utilise des unigrammes et des bigrammes\n",
    "        # On pourrait ajouter d'autres paramètres ici, mais les valeurs par défaut sont généralement bonnes\n",
    "    )\n",
    "\n",
    "    tfidf_matrix = tfidf_vectorizer.fit_transform(df['review'])  # Applique la vectorisation\n",
    "    return tfidf_matrix, tfidf_vectorizer"
   ]
  },
  {
   "cell_type": "code",
   "execution_count": 34,
   "id": "f3a6494b",
   "metadata": {},
   "outputs": [
    {
     "name": "stdout",
     "output_type": "stream",
     "text": [
      "\n",
      "Matrice TF-IDF (forme) : (25000, 5000)\n",
      "Nombre de features : 5000\n",
      "Quelques features (mots/n-grammes) : ['crimin' 'cring' 'crisi' 'critic' 'crocodil' 'crook' 'cross' 'crowd'\n",
      " 'crucial' 'crude' 'cruel' 'cruis' 'crush' 'crystal' 'cuba' 'cube' 'cue'\n",
      " 'cult' 'cult classic' 'cultur']\n",
      "\n",
      "Matrice TF-IDF (dense, extrait) :\n",
      " [[0. 0. 0. 0. 0. 0. 0. 0. 0. 0.]\n",
      " [0. 0. 0. 0. 0. 0. 0. 0. 0. 0.]]\n",
      "\n",
      "Nouvelle critique vectorisée (forme): (1, 5000)\n"
     ]
    }
   ],
   "source": [
    "# === MAIN ===\n",
    "\n",
    "if movie_reviews_df is not None:\n",
    "    # Vectorisation\n",
    "    tfidf_matrix, vectorizer = vectorize_reviews(movie_reviews_df)\n",
    "\n",
    "    if tfidf_matrix is not None:  # Vérifie que la vectorisation a réussi\n",
    "        print(\"\\nMatrice TF-IDF (forme) :\", tfidf_matrix.shape)\n",
    "        # Accéder aux noms des features (mots/n-grammes)\n",
    "        feature_names = vectorizer.get_feature_names_out()\n",
    "        print(\"Nombre de features :\", len(feature_names))\n",
    "        print(\"Quelques features (mots/n-grammes) :\", feature_names[1000:1020]) #Un exemple\n",
    "\n",
    "        # Convertir la matrice sparse en array dense (pour l'affichage, seulement pour l'exemple!)\n",
    "        dense_matrix = tfidf_matrix.toarray()\n",
    "        print(\"\\nMatrice TF-IDF (dense, extrait) :\\n\", dense_matrix[:2, :10])  # Affiche un petit extrait !\n",
    "\n",
    "        #Transformer une nouvelle review avec le vectorizer déjà entrainé:\n",
    "        new_review = \"This movie was absolutely amazing! The acting was superb.\"\n",
    "        cleaned_new_review = remove_html_bs(new_review)\n",
    "        cleaned_new_review = remove_special_characters(cleaned_new_review)\n",
    "        cleaned_new_review = convert_to_lowercase(cleaned_new_review)\n",
    "        cleaned_new_review = remove_stopwords(cleaned_new_review)\n",
    "        cleaned_new_review = apply_lemmatization(cleaned_new_review)\n",
    "\n",
    "        new_review_vectorized = vectorizer.transform([cleaned_new_review]) #Transform, et pas fit_transform\n",
    "        print(\"\\nNouvelle critique vectorisée (forme):\", new_review_vectorized.shape)"
   ]
  },
  {
   "cell_type": "code",
   "execution_count": 35,
   "id": "bb4744eb",
   "metadata": {},
   "outputs": [
    {
     "name": "stdout",
     "output_type": "stream",
     "text": [
      "                                              review  sentiment\n",
      "0  zentropa origin movi seen year like uniqu thri...          1\n",
      "1  busi amaz love everi word ever done freak geek...          1\n",
      "2  anoth good stoog short christin mcintyr love e...          1\n",
      "3  complex film explor effect fordist taylorist m...          1\n",
      "4  film special place heart caught first time tea...          1\n"
     ]
    }
   ],
   "source": [
    "display_first_reviews(movie_reviews_df, num_reviews=5)\n",
    "# Verification du fonctionnement"
   ]
  },
  {
   "cell_type": "markdown",
   "id": "b244b9d2-245c-4f5c-a9f1-cd97084d2aab",
   "metadata": {},
   "source": [
    "4. Model Training:\n",
    "\n",
    "    Goal: Train a machine learning model to classify reviews based on their sentiment.\n",
    "    \n",
    "    Task: Split the dataset into training and testing sets, train a Logistic Regression model, and evaluate its performance on the test data."
   ]
  },
  {
   "cell_type": "markdown",
   "id": "e805c3d1-f7b0-4a88-9eec-38244f446d37",
   "metadata": {},
   "source": [
    "5. Model Evaluation:\n",
    "\n",
    "    Goal: Assess the performance of your model using appropriate metrics.\n",
    "    \n",
    "    Task: Evaluate precision, recall, and F1-score of the Logistic Regression model. Use these metrics to identify the strengths and weaknesses of your system. Visualize the Confusion Matrix to better understand how well the model classifies positive and negative reviews. Additionally, test the model with a new review, preprocess it, make a prediction, and display the result. Example: test it with a new review such as:\n",
    "    \"The movie had great visuals, but the storyline was dull and predictable.\" The expected output might be: Negative Sentiment."
   ]
  },
  {
   "cell_type": "code",
   "execution_count": 36,
   "id": "d389d0b4-232a-4ce4-8b19-c311f6037058",
   "metadata": {},
   "outputs": [],
   "source": [
    "# --- Fonction de division des données et d'entraînement ---\n",
    "\n",
    "def train_logistic_regression(X, y):\n",
    "    \"\"\"\n",
    "    Entraîne un modèle de régression logistique.\n",
    "\n",
    "    Args:\n",
    "        X: La matrice TF-IDF (features).\n",
    "        y: Les étiquettes (sentiments, 0 ou 1).\n",
    "\n",
    "    Returns:\n",
    "        Le modèle entraîné.\n",
    "    \"\"\"\n",
    "\n",
    "    # 1. Division des données en ensembles d'entraînement et de test\n",
    "    X_train, X_test, y_train, y_test = train_test_split(X, y, test_size=0.2, random_state=42)\n",
    "    # test_size = 0.2 : 20% des données pour le test, 80% pour l'entrainement\n",
    "    # random_state = 42 :  Pour la reproductibilité.  Fixe la graine du générateur aléatoire.\n",
    "\n",
    "    # 2. Création du modèle de régression logistique\n",
    "    model = LogisticRegression(max_iter=1000, random_state=42)\n",
    "    # max_iter : Nombre maximum d'itérations pour la descente de gradient.\n",
    "    # random_state : Pour la reproductibilité.\n",
    "\n",
    "    # 3. Entraînement du modèle\n",
    "    model.fit(X_train, y_train) # Entraîne le modèle sur les données d'entraînement\n",
    "\n",
    "    return model, X_train, X_test, y_train, y_test\n"
   ]
  },
  {
   "cell_type": "code",
   "execution_count": 37,
   "id": "04c39668",
   "metadata": {},
   "outputs": [
    {
     "name": "stderr",
     "output_type": "stream",
     "text": [
      "[codecarbon INFO @ 15:41:32] [setup] RAM Tracking...\n",
      "[codecarbon INFO @ 15:41:32] [setup] CPU Tracking...\n",
      "[codecarbon WARNING @ 15:41:32] No CPU tracking mode found. Falling back on CPU constant mode. \n",
      " Linux OS detected: Please ensure RAPL files exist at \\sys\\class\\powercap\\intel-rapl to measure CPU\n",
      "\n"
     ]
    },
    {
     "name": "stderr",
     "output_type": "stream",
     "text": [
      "[codecarbon INFO @ 15:41:33] CPU Model on constant consumption mode: Intel(R) Core(TM) i5-6300U CPU @ 2.40GHz\n",
      "[codecarbon INFO @ 15:41:33] [setup] GPU Tracking...\n",
      "[codecarbon INFO @ 15:41:33] No GPU found.\n",
      "[codecarbon INFO @ 15:41:33] >>> Tracker's metadata:\n",
      "[codecarbon INFO @ 15:41:33]   Platform system: Linux-6.11.0-17-generic-x86_64-with-glibc2.39\n",
      "[codecarbon INFO @ 15:41:33]   Python version: 3.12.2\n",
      "[codecarbon INFO @ 15:41:33]   CodeCarbon version: 2.8.3\n",
      "[codecarbon INFO @ 15:41:33]   Available RAM : 15.368 GB\n",
      "[codecarbon INFO @ 15:41:33]   CPU count: 4\n",
      "[codecarbon INFO @ 15:41:33]   CPU model: Intel(R) Core(TM) i5-6300U CPU @ 2.40GHz\n",
      "[codecarbon INFO @ 15:41:33]   GPU count: None\n",
      "[codecarbon INFO @ 15:41:33]   GPU model: None\n",
      "[codecarbon INFO @ 15:41:37] Saving emissions data to file /media/robin/Robin/code/uqtr/cours_ia/sentiment_analysis/emissions.csv\n"
     ]
    }
   ],
   "source": [
    "# === MAIN ===\n",
    "\n",
    "# Debut du suivi des émissions\n",
    "tracker = EmissionsTracker() # Instancie un tracker pour mesurer les émissions de CO2\n",
    "tracker.start() # Démarre le suivi des émissions"
   ]
  },
  {
   "cell_type": "code",
   "execution_count": null,
   "id": "77bdcaa5",
   "metadata": {},
   "outputs": [
    {
     "name": "stdout",
     "output_type": "stream",
     "text": [
      "\n",
      "Classification Report:\n",
      "               precision    recall  f1-score   support\n",
      "\n",
      "           0       0.90      0.88      0.89      2485\n",
      "           1       0.88      0.90      0.89      2515\n",
      "\n",
      "    accuracy                           0.89      5000\n",
      "   macro avg       0.89      0.89      0.89      5000\n",
      "weighted avg       0.89      0.89      0.89      5000\n",
      "\n",
      "\n",
      "Confusion Matrix:\n",
      " [[2178  307]\n",
      " [ 254 2261]]\n"
     ]
    },
    {
     "name": "stderr",
     "output_type": "stream",
     "text": [
      "[codecarbon INFO @ 15:41:52] Energy consumed for RAM : 0.000024 kWh. RAM Power : 5.762899875640869 W\n",
      "[codecarbon INFO @ 15:41:52] Energy consumed for all CPUs : 0.000031 kWh. Total CPU Power : 7.5 W\n",
      "[codecarbon INFO @ 15:41:52] 0.000055 kWh of electricity used since the beginning.\n"
     ]
    }
   ],
   "source": [
    "# === MAIN ===\n",
    "\n",
    "if tfidf_matrix is not None:\n",
    "    # Entraînement du modèle\n",
    "    model, X_train, X_test, y_train, y_test = train_logistic_regression(tfidf_matrix, movie_reviews_df['sentiment'])\n",
    "\n",
    "    # --- Évaluation du modèle ---\n",
    "    y_pred = model.predict(X_test) #Prédictions sur le set de test\n",
    "\n",
    "    #print(\"\\nAccuracy:\", accuracy_score(y_test, y_pred)) #La précision\n",
    "    print(\"\\nClassification Report:\\n\", classification_report(y_test, y_pred)) #Rapport détaillé\n",
    "    print(\"\\nConfusion Matrix:\\n\", confusion_matrix(y_test, y_pred)) #Matrice de confusion\n"
   ]
  },
  {
   "cell_type": "markdown",
   "id": "4875e45b",
   "metadata": {},
   "source": [
    "6. Hyperparameter Tuning:\n",
    "\n",
    "    Goal: Optimize your Logistic Regression model by tuning its hyperparameters.\n",
    "   \n",
    "    Task: Use an optimization method to find the best parameters for your model and improve its accuracy."
   ]
  },
  {
   "cell_type": "code",
   "execution_count": null,
   "id": "ce51fa9b-37e6-4683-a897-0e457cedef7e",
   "metadata": {},
   "outputs": [
    {
     "name": "stdout",
     "output_type": "stream",
     "text": [
      "Taille de l'ensemble d'entraînement: 15000\n",
      "Taille de l'ensemble de validation: 5000\n",
      "Taille de l'ensemble de test: 5000\n",
      "Fitting 5 folds for each of 32 candidates, totalling 160 fits\n",
      "[CV 1/5] END clf__C=1, tfidf__max_df=0.9, tfidf__max_features=5000, tfidf__min_df=1, tfidf__ngram_range=(1, 1);, score=0.881 total time=   2.2s\n",
      "[CV 2/5] END clf__C=1, tfidf__max_df=0.9, tfidf__max_features=5000, tfidf__min_df=1, tfidf__ngram_range=(1, 1);, score=0.874 total time=   1.7s\n"
     ]
    },
    {
     "name": "stderr",
     "output_type": "stream",
     "text": [
      "[codecarbon INFO @ 15:42:07] Energy consumed for RAM : 0.000048 kWh. RAM Power : 5.762899875640869 W\n",
      "[codecarbon INFO @ 15:42:07] Energy consumed for all CPUs : 0.000063 kWh. Total CPU Power : 7.5 W\n",
      "[codecarbon INFO @ 15:42:07] 0.000111 kWh of electricity used since the beginning.\n"
     ]
    },
    {
     "name": "stdout",
     "output_type": "stream",
     "text": [
      "[CV 3/5] END clf__C=1, tfidf__max_df=0.9, tfidf__max_features=5000, tfidf__min_df=1, tfidf__ngram_range=(1, 1);, score=0.881 total time=   1.9s\n",
      "[CV 4/5] END clf__C=1, tfidf__max_df=0.9, tfidf__max_features=5000, tfidf__min_df=1, tfidf__ngram_range=(1, 1);, score=0.880 total time=   1.7s\n",
      "[CV 5/5] END clf__C=1, tfidf__max_df=0.9, tfidf__max_features=5000, tfidf__min_df=1, tfidf__ngram_range=(1, 1);, score=0.872 total time=   2.1s\n",
      "[CV 1/5] END clf__C=1, tfidf__max_df=0.9, tfidf__max_features=5000, tfidf__min_df=1, tfidf__ngram_range=(1, 2);, score=0.885 total time=   8.6s\n"
     ]
    },
    {
     "name": "stderr",
     "output_type": "stream",
     "text": [
      "[codecarbon INFO @ 15:42:22] Energy consumed for RAM : 0.000072 kWh. RAM Power : 5.762899875640869 W\n",
      "[codecarbon INFO @ 15:42:23] Energy consumed for all CPUs : 0.000094 kWh. Total CPU Power : 7.5 W\n",
      "[codecarbon INFO @ 15:42:23] 0.000166 kWh of electricity used since the beginning.\n"
     ]
    },
    {
     "name": "stdout",
     "output_type": "stream",
     "text": [
      "[CV 2/5] END clf__C=1, tfidf__max_df=0.9, tfidf__max_features=5000, tfidf__min_df=1, tfidf__ngram_range=(1, 2);, score=0.876 total time=   8.4s\n"
     ]
    },
    {
     "name": "stderr",
     "output_type": "stream",
     "text": [
      "[codecarbon INFO @ 15:42:37] Energy consumed for RAM : 0.000096 kWh. RAM Power : 5.762899875640869 W\n",
      "[codecarbon INFO @ 15:42:38] Energy consumed for all CPUs : 0.000125 kWh. Total CPU Power : 7.5 W\n",
      "[codecarbon INFO @ 15:42:38] 0.000221 kWh of electricity used since the beginning.\n"
     ]
    },
    {
     "name": "stdout",
     "output_type": "stream",
     "text": [
      "[CV 3/5] END clf__C=1, tfidf__max_df=0.9, tfidf__max_features=5000, tfidf__min_df=1, tfidf__ngram_range=(1, 2);, score=0.880 total time=   8.1s\n",
      "[CV 4/5] END clf__C=1, tfidf__max_df=0.9, tfidf__max_features=5000, tfidf__min_df=1, tfidf__ngram_range=(1, 2);, score=0.881 total time=   7.2s\n"
     ]
    },
    {
     "name": "stderr",
     "output_type": "stream",
     "text": [
      "[codecarbon INFO @ 15:42:52] Energy consumed for RAM : 0.000120 kWh. RAM Power : 5.762899875640869 W\n",
      "[codecarbon INFO @ 15:42:52] Energy consumed for all CPUs : 0.000156 kWh. Total CPU Power : 7.5 W\n",
      "[codecarbon INFO @ 15:42:52] 0.000276 kWh of electricity used since the beginning.\n"
     ]
    },
    {
     "name": "stdout",
     "output_type": "stream",
     "text": [
      "[CV 5/5] END clf__C=1, tfidf__max_df=0.9, tfidf__max_features=5000, tfidf__min_df=1, tfidf__ngram_range=(1, 2);, score=0.871 total time=   7.6s\n",
      "[CV 1/5] END clf__C=1, tfidf__max_df=0.9, tfidf__max_features=5000, tfidf__min_df=2, tfidf__ngram_range=(1, 1);, score=0.881 total time=   1.7s\n",
      "[CV 2/5] END clf__C=1, tfidf__max_df=0.9, tfidf__max_features=5000, tfidf__min_df=2, tfidf__ngram_range=(1, 1);, score=0.874 total time=   1.7s\n",
      "[CV 3/5] END clf__C=1, tfidf__max_df=0.9, tfidf__max_features=5000, tfidf__min_df=2, tfidf__ngram_range=(1, 1);, score=0.881 total time=   2.0s\n",
      "[CV 4/5] END clf__C=1, tfidf__max_df=0.9, tfidf__max_features=5000, tfidf__min_df=2, tfidf__ngram_range=(1, 1);, score=0.879 total time=   2.0s\n",
      "[CV 5/5] END clf__C=1, tfidf__max_df=0.9, tfidf__max_features=5000, tfidf__min_df=2, tfidf__ngram_range=(1, 1);, score=0.871 total time=   2.1s\n"
     ]
    },
    {
     "name": "stderr",
     "output_type": "stream",
     "text": [
      "[codecarbon INFO @ 15:43:07] Energy consumed for RAM : 0.000144 kWh. RAM Power : 5.762899875640869 W\n",
      "[codecarbon INFO @ 15:43:08] Energy consumed for all CPUs : 0.000188 kWh. Total CPU Power : 7.5 W\n",
      "[codecarbon INFO @ 15:43:08] 0.000332 kWh of electricity used since the beginning.\n"
     ]
    },
    {
     "name": "stdout",
     "output_type": "stream",
     "text": [
      "[CV 1/5] END clf__C=1, tfidf__max_df=0.9, tfidf__max_features=5000, tfidf__min_df=2, tfidf__ngram_range=(1, 2);, score=0.885 total time=   7.4s\n",
      "[CV 2/5] END clf__C=1, tfidf__max_df=0.9, tfidf__max_features=5000, tfidf__min_df=2, tfidf__ngram_range=(1, 2);, score=0.876 total time=   7.9s\n"
     ]
    },
    {
     "name": "stderr",
     "output_type": "stream",
     "text": [
      "[codecarbon INFO @ 15:43:22] Energy consumed for RAM : 0.000167 kWh. RAM Power : 5.762899875640869 W\n",
      "[codecarbon INFO @ 15:43:23] Energy consumed for all CPUs : 0.000219 kWh. Total CPU Power : 7.5 W\n",
      "[codecarbon INFO @ 15:43:23] 0.000386 kWh of electricity used since the beginning.\n"
     ]
    },
    {
     "name": "stdout",
     "output_type": "stream",
     "text": [
      "[CV 3/5] END clf__C=1, tfidf__max_df=0.9, tfidf__max_features=5000, tfidf__min_df=2, tfidf__ngram_range=(1, 2);, score=0.880 total time=   7.6s\n",
      "[CV 4/5] END clf__C=1, tfidf__max_df=0.9, tfidf__max_features=5000, tfidf__min_df=2, tfidf__ngram_range=(1, 2);, score=0.880 total time=   7.1s\n"
     ]
    },
    {
     "name": "stderr",
     "output_type": "stream",
     "text": [
      "[codecarbon INFO @ 15:43:37] Energy consumed for RAM : 0.000191 kWh. RAM Power : 5.762899875640869 W\n",
      "[codecarbon INFO @ 15:43:37] Energy consumed for all CPUs : 0.000250 kWh. Total CPU Power : 7.5 W\n",
      "[codecarbon INFO @ 15:43:37] 0.000441 kWh of electricity used since the beginning.\n",
      "[codecarbon INFO @ 15:43:37] 0.000009 g.CO2eq/s mean an estimation of 0.27544068753539047 kg.CO2eq/year\n"
     ]
    },
    {
     "name": "stdout",
     "output_type": "stream",
     "text": [
      "[CV 5/5] END clf__C=1, tfidf__max_df=0.9, tfidf__max_features=5000, tfidf__min_df=2, tfidf__ngram_range=(1, 2);, score=0.871 total time=   7.6s\n",
      "[CV 1/5] END clf__C=1, tfidf__max_df=0.9, tfidf__max_features=10000, tfidf__min_df=1, tfidf__ngram_range=(1, 1);, score=0.884 total time=   1.8s\n",
      "[CV 2/5] END clf__C=1, tfidf__max_df=0.9, tfidf__max_features=10000, tfidf__min_df=1, tfidf__ngram_range=(1, 1);, score=0.877 total time=   1.9s\n",
      "[CV 3/5] END clf__C=1, tfidf__max_df=0.9, tfidf__max_features=10000, tfidf__min_df=1, tfidf__ngram_range=(1, 1);, score=0.882 total time=   1.8s\n",
      "[CV 4/5] END clf__C=1, tfidf__max_df=0.9, tfidf__max_features=10000, tfidf__min_df=1, tfidf__ngram_range=(1, 1);, score=0.883 total time=   1.9s\n",
      "[CV 5/5] END clf__C=1, tfidf__max_df=0.9, tfidf__max_features=10000, tfidf__min_df=1, tfidf__ngram_range=(1, 1);, score=0.878 total time=   1.8s\n"
     ]
    },
    {
     "name": "stderr",
     "output_type": "stream",
     "text": [
      "[codecarbon INFO @ 15:43:53] Energy consumed for RAM : 0.000216 kWh. RAM Power : 5.762899875640869 W\n",
      "[codecarbon INFO @ 15:43:53] Energy consumed for all CPUs : 0.000283 kWh. Total CPU Power : 7.5 W\n",
      "[codecarbon INFO @ 15:43:53] 0.000499 kWh of electricity used since the beginning.\n"
     ]
    },
    {
     "name": "stdout",
     "output_type": "stream",
     "text": [
      "[CV 1/5] END clf__C=1, tfidf__max_df=0.9, tfidf__max_features=10000, tfidf__min_df=1, tfidf__ngram_range=(1, 2);, score=0.888 total time=   7.9s\n",
      "[CV 2/5] END clf__C=1, tfidf__max_df=0.9, tfidf__max_features=10000, tfidf__min_df=1, tfidf__ngram_range=(1, 2);, score=0.882 total time=   7.7s\n"
     ]
    },
    {
     "name": "stderr",
     "output_type": "stream",
     "text": [
      "[codecarbon INFO @ 15:44:09] Energy consumed for RAM : 0.000241 kWh. RAM Power : 5.762899875640869 W\n",
      "[codecarbon INFO @ 15:44:09] Energy consumed for all CPUs : 0.000315 kWh. Total CPU Power : 7.5 W\n",
      "[codecarbon INFO @ 15:44:09] 0.000556 kWh of electricity used since the beginning.\n"
     ]
    },
    {
     "name": "stdout",
     "output_type": "stream",
     "text": [
      "[CV 3/5] END clf__C=1, tfidf__max_df=0.9, tfidf__max_features=10000, tfidf__min_df=1, tfidf__ngram_range=(1, 2);, score=0.881 total time=   7.6s\n",
      "[CV 4/5] END clf__C=1, tfidf__max_df=0.9, tfidf__max_features=10000, tfidf__min_df=1, tfidf__ngram_range=(1, 2);, score=0.884 total time=   7.6s\n"
     ]
    },
    {
     "name": "stderr",
     "output_type": "stream",
     "text": [
      "[codecarbon INFO @ 15:44:24] Energy consumed for RAM : 0.000266 kWh. RAM Power : 5.762899875640869 W\n",
      "[codecarbon INFO @ 15:44:24] Energy consumed for all CPUs : 0.000347 kWh. Total CPU Power : 7.5 W\n",
      "[codecarbon INFO @ 15:44:24] 0.000613 kWh of electricity used since the beginning.\n"
     ]
    },
    {
     "name": "stdout",
     "output_type": "stream",
     "text": [
      "[CV 5/5] END clf__C=1, tfidf__max_df=0.9, tfidf__max_features=10000, tfidf__min_df=1, tfidf__ngram_range=(1, 2);, score=0.877 total time=   7.8s\n",
      "[CV 1/5] END clf__C=1, tfidf__max_df=0.9, tfidf__max_features=10000, tfidf__min_df=2, tfidf__ngram_range=(1, 1);, score=0.883 total time=   1.9s\n",
      "[CV 2/5] END clf__C=1, tfidf__max_df=0.9, tfidf__max_features=10000, tfidf__min_df=2, tfidf__ngram_range=(1, 1);, score=0.877 total time=   1.8s\n",
      "[CV 3/5] END clf__C=1, tfidf__max_df=0.9, tfidf__max_features=10000, tfidf__min_df=2, tfidf__ngram_range=(1, 1);, score=0.884 total time=   2.3s\n",
      "[CV 4/5] END clf__C=1, tfidf__max_df=0.9, tfidf__max_features=10000, tfidf__min_df=2, tfidf__ngram_range=(1, 1);, score=0.884 total time=   2.1s\n",
      "[CV 5/5] END clf__C=1, tfidf__max_df=0.9, tfidf__max_features=10000, tfidf__min_df=2, tfidf__ngram_range=(1, 1);, score=0.877 total time=   2.1s\n"
     ]
    },
    {
     "name": "stderr",
     "output_type": "stream",
     "text": [
      "[codecarbon INFO @ 15:44:39] Energy consumed for RAM : 0.000289 kWh. RAM Power : 5.762899875640869 W\n",
      "[codecarbon INFO @ 15:44:39] Energy consumed for all CPUs : 0.000378 kWh. Total CPU Power : 7.5 W\n",
      "[codecarbon INFO @ 15:44:39] 0.000668 kWh of electricity used since the beginning.\n"
     ]
    },
    {
     "name": "stdout",
     "output_type": "stream",
     "text": [
      "[CV 1/5] END clf__C=1, tfidf__max_df=0.9, tfidf__max_features=10000, tfidf__min_df=2, tfidf__ngram_range=(1, 2);, score=0.888 total time=   7.3s\n",
      "[CV 2/5] END clf__C=1, tfidf__max_df=0.9, tfidf__max_features=10000, tfidf__min_df=2, tfidf__ngram_range=(1, 2);, score=0.882 total time=   7.6s\n"
     ]
    },
    {
     "name": "stderr",
     "output_type": "stream",
     "text": [
      "[codecarbon INFO @ 15:44:54] Energy consumed for RAM : 0.000313 kWh. RAM Power : 5.762899875640869 W\n",
      "[codecarbon INFO @ 15:44:54] Energy consumed for all CPUs : 0.000409 kWh. Total CPU Power : 7.5 W\n",
      "[codecarbon INFO @ 15:44:54] 0.000723 kWh of electricity used since the beginning.\n"
     ]
    },
    {
     "name": "stdout",
     "output_type": "stream",
     "text": [
      "[CV 3/5] END clf__C=1, tfidf__max_df=0.9, tfidf__max_features=10000, tfidf__min_df=2, tfidf__ngram_range=(1, 2);, score=0.881 total time=   8.0s\n",
      "[CV 4/5] END clf__C=1, tfidf__max_df=0.9, tfidf__max_features=10000, tfidf__min_df=2, tfidf__ngram_range=(1, 2);, score=0.884 total time=   7.9s\n"
     ]
    },
    {
     "name": "stderr",
     "output_type": "stream",
     "text": [
      "[codecarbon INFO @ 15:45:09] Energy consumed for RAM : 0.000337 kWh. RAM Power : 5.762899875640869 W\n",
      "[codecarbon INFO @ 15:45:09] Energy consumed for all CPUs : 0.000440 kWh. Total CPU Power : 7.5 W\n",
      "[codecarbon INFO @ 15:45:09] 0.000778 kWh of electricity used since the beginning.\n"
     ]
    },
    {
     "name": "stdout",
     "output_type": "stream",
     "text": [
      "[CV 5/5] END clf__C=1, tfidf__max_df=0.9, tfidf__max_features=10000, tfidf__min_df=2, tfidf__ngram_range=(1, 2);, score=0.877 total time=   7.7s\n",
      "[CV 1/5] END clf__C=1, tfidf__max_df=0.95, tfidf__max_features=5000, tfidf__min_df=1, tfidf__ngram_range=(1, 1);, score=0.881 total time=   1.9s\n",
      "[CV 2/5] END clf__C=1, tfidf__max_df=0.95, tfidf__max_features=5000, tfidf__min_df=1, tfidf__ngram_range=(1, 1);, score=0.874 total time=   1.8s\n",
      "[CV 3/5] END clf__C=1, tfidf__max_df=0.95, tfidf__max_features=5000, tfidf__min_df=1, tfidf__ngram_range=(1, 1);, score=0.881 total time=   1.7s\n",
      "[CV 4/5] END clf__C=1, tfidf__max_df=0.95, tfidf__max_features=5000, tfidf__min_df=1, tfidf__ngram_range=(1, 1);, score=0.880 total time=   1.8s\n"
     ]
    },
    {
     "name": "stderr",
     "output_type": "stream",
     "text": [
      "[codecarbon INFO @ 15:45:24] Energy consumed for RAM : 0.000361 kWh. RAM Power : 5.762899875640869 W\n",
      "[codecarbon INFO @ 15:45:24] Energy consumed for all CPUs : 0.000472 kWh. Total CPU Power : 7.5 W\n",
      "[codecarbon INFO @ 15:45:24] 0.000833 kWh of electricity used since the beginning.\n"
     ]
    },
    {
     "name": "stdout",
     "output_type": "stream",
     "text": [
      "[CV 5/5] END clf__C=1, tfidf__max_df=0.95, tfidf__max_features=5000, tfidf__min_df=1, tfidf__ngram_range=(1, 1);, score=0.872 total time=   1.7s\n",
      "[CV 1/5] END clf__C=1, tfidf__max_df=0.95, tfidf__max_features=5000, tfidf__min_df=1, tfidf__ngram_range=(1, 2);, score=0.885 total time=   7.9s\n"
     ]
    },
    {
     "name": "stderr",
     "output_type": "stream",
     "text": [
      "[codecarbon INFO @ 15:45:39] Energy consumed for RAM : 0.000385 kWh. RAM Power : 5.762899875640869 W\n",
      "[codecarbon INFO @ 15:45:39] Energy consumed for all CPUs : 0.000503 kWh. Total CPU Power : 7.5 W\n",
      "[codecarbon INFO @ 15:45:39] 0.000888 kWh of electricity used since the beginning.\n",
      "[codecarbon INFO @ 15:45:39] 0.000009 g.CO2eq/s mean an estimation of 0.27522723118132514 kg.CO2eq/year\n"
     ]
    },
    {
     "name": "stdout",
     "output_type": "stream",
     "text": [
      "[CV 2/5] END clf__C=1, tfidf__max_df=0.95, tfidf__max_features=5000, tfidf__min_df=1, tfidf__ngram_range=(1, 2);, score=0.876 total time=   7.9s\n",
      "[CV 3/5] END clf__C=1, tfidf__max_df=0.95, tfidf__max_features=5000, tfidf__min_df=1, tfidf__ngram_range=(1, 2);, score=0.880 total time=   8.1s\n"
     ]
    },
    {
     "name": "stderr",
     "output_type": "stream",
     "text": [
      "[codecarbon INFO @ 15:45:54] Energy consumed for RAM : 0.000409 kWh. RAM Power : 5.762899875640869 W\n",
      "[codecarbon INFO @ 15:45:54] Energy consumed for all CPUs : 0.000534 kWh. Total CPU Power : 7.5 W\n",
      "[codecarbon INFO @ 15:45:54] 0.000943 kWh of electricity used since the beginning.\n"
     ]
    },
    {
     "name": "stdout",
     "output_type": "stream",
     "text": [
      "[CV 4/5] END clf__C=1, tfidf__max_df=0.95, tfidf__max_features=5000, tfidf__min_df=1, tfidf__ngram_range=(1, 2);, score=0.881 total time=   7.5s\n",
      "[CV 5/5] END clf__C=1, tfidf__max_df=0.95, tfidf__max_features=5000, tfidf__min_df=1, tfidf__ngram_range=(1, 2);, score=0.871 total time=   7.7s\n",
      "[CV 1/5] END clf__C=1, tfidf__max_df=0.95, tfidf__max_features=5000, tfidf__min_df=2, tfidf__ngram_range=(1, 1);, score=0.881 total time=   1.7s\n",
      "[CV 2/5] END clf__C=1, tfidf__max_df=0.95, tfidf__max_features=5000, tfidf__min_df=2, tfidf__ngram_range=(1, 1);, score=0.874 total time=   1.6s\n"
     ]
    },
    {
     "name": "stderr",
     "output_type": "stream",
     "text": [
      "[codecarbon INFO @ 15:46:09] Energy consumed for RAM : 0.000433 kWh. RAM Power : 5.762899875640869 W\n",
      "[codecarbon INFO @ 15:46:09] Energy consumed for all CPUs : 0.000565 kWh. Total CPU Power : 7.5 W\n",
      "[codecarbon INFO @ 15:46:09] 0.000998 kWh of electricity used since the beginning.\n"
     ]
    },
    {
     "name": "stdout",
     "output_type": "stream",
     "text": [
      "[CV 3/5] END clf__C=1, tfidf__max_df=0.95, tfidf__max_features=5000, tfidf__min_df=2, tfidf__ngram_range=(1, 1);, score=0.881 total time=   1.9s\n",
      "[CV 4/5] END clf__C=1, tfidf__max_df=0.95, tfidf__max_features=5000, tfidf__min_df=2, tfidf__ngram_range=(1, 1);, score=0.879 total time=   1.9s\n",
      "[CV 5/5] END clf__C=1, tfidf__max_df=0.95, tfidf__max_features=5000, tfidf__min_df=2, tfidf__ngram_range=(1, 1);, score=0.871 total time=   1.7s\n",
      "[CV 1/5] END clf__C=1, tfidf__max_df=0.95, tfidf__max_features=5000, tfidf__min_df=2, tfidf__ngram_range=(1, 2);, score=0.885 total time=   7.5s\n"
     ]
    },
    {
     "name": "stderr",
     "output_type": "stream",
     "text": [
      "[codecarbon INFO @ 15:46:25] Energy consumed for RAM : 0.000458 kWh. RAM Power : 5.762899875640869 W\n",
      "[codecarbon INFO @ 15:46:25] Energy consumed for all CPUs : 0.000598 kWh. Total CPU Power : 7.5 W\n",
      "[codecarbon INFO @ 15:46:25] 0.001056 kWh of electricity used since the beginning.\n"
     ]
    },
    {
     "name": "stdout",
     "output_type": "stream",
     "text": [
      "[CV 2/5] END clf__C=1, tfidf__max_df=0.95, tfidf__max_features=5000, tfidf__min_df=2, tfidf__ngram_range=(1, 2);, score=0.876 total time=   7.5s\n",
      "[CV 3/5] END clf__C=1, tfidf__max_df=0.95, tfidf__max_features=5000, tfidf__min_df=2, tfidf__ngram_range=(1, 2);, score=0.880 total time=   7.5s\n"
     ]
    },
    {
     "name": "stderr",
     "output_type": "stream",
     "text": [
      "[codecarbon INFO @ 15:46:40] Energy consumed for RAM : 0.000482 kWh. RAM Power : 5.762899875640869 W\n",
      "[codecarbon INFO @ 15:46:40] Energy consumed for all CPUs : 0.000629 kWh. Total CPU Power : 7.5 W\n",
      "[codecarbon INFO @ 15:46:40] 0.001111 kWh of electricity used since the beginning.\n"
     ]
    },
    {
     "name": "stdout",
     "output_type": "stream",
     "text": [
      "[CV 4/5] END clf__C=1, tfidf__max_df=0.95, tfidf__max_features=5000, tfidf__min_df=2, tfidf__ngram_range=(1, 2);, score=0.880 total time=   7.2s\n",
      "[CV 5/5] END clf__C=1, tfidf__max_df=0.95, tfidf__max_features=5000, tfidf__min_df=2, tfidf__ngram_range=(1, 2);, score=0.871 total time=   7.1s\n",
      "[CV 1/5] END clf__C=1, tfidf__max_df=0.95, tfidf__max_features=10000, tfidf__min_df=1, tfidf__ngram_range=(1, 1);, score=0.884 total time=   2.5s\n",
      "[CV 2/5] END clf__C=1, tfidf__max_df=0.95, tfidf__max_features=10000, tfidf__min_df=1, tfidf__ngram_range=(1, 1);, score=0.877 total time=   1.9s\n"
     ]
    },
    {
     "name": "stderr",
     "output_type": "stream",
     "text": [
      "[codecarbon INFO @ 15:46:55] Energy consumed for RAM : 0.000506 kWh. RAM Power : 5.762899875640869 W\n",
      "[codecarbon INFO @ 15:46:55] Energy consumed for all CPUs : 0.000660 kWh. Total CPU Power : 7.5 W\n",
      "[codecarbon INFO @ 15:46:55] 0.001166 kWh of electricity used since the beginning.\n"
     ]
    },
    {
     "name": "stdout",
     "output_type": "stream",
     "text": [
      "[CV 3/5] END clf__C=1, tfidf__max_df=0.95, tfidf__max_features=10000, tfidf__min_df=1, tfidf__ngram_range=(1, 1);, score=0.882 total time=   2.1s\n",
      "[CV 4/5] END clf__C=1, tfidf__max_df=0.95, tfidf__max_features=10000, tfidf__min_df=1, tfidf__ngram_range=(1, 1);, score=0.883 total time=   2.1s\n",
      "[CV 5/5] END clf__C=1, tfidf__max_df=0.95, tfidf__max_features=10000, tfidf__min_df=1, tfidf__ngram_range=(1, 1);, score=0.878 total time=   2.4s\n",
      "[CV 1/5] END clf__C=1, tfidf__max_df=0.95, tfidf__max_features=10000, tfidf__min_df=1, tfidf__ngram_range=(1, 2);, score=0.888 total time=   8.3s\n"
     ]
    },
    {
     "name": "stderr",
     "output_type": "stream",
     "text": [
      "[codecarbon INFO @ 15:47:10] Energy consumed for RAM : 0.000530 kWh. RAM Power : 5.762899875640869 W\n",
      "[codecarbon INFO @ 15:47:10] Energy consumed for all CPUs : 0.000692 kWh. Total CPU Power : 7.5 W\n",
      "[codecarbon INFO @ 15:47:10] 0.001222 kWh of electricity used since the beginning.\n"
     ]
    },
    {
     "name": "stdout",
     "output_type": "stream",
     "text": [
      "[CV 2/5] END clf__C=1, tfidf__max_df=0.95, tfidf__max_features=10000, tfidf__min_df=1, tfidf__ngram_range=(1, 2);, score=0.882 total time=  11.4s\n"
     ]
    },
    {
     "name": "stderr",
     "output_type": "stream",
     "text": [
      "[codecarbon INFO @ 15:47:26] Energy consumed for RAM : 0.000556 kWh. RAM Power : 5.762899875640869 W\n",
      "[codecarbon INFO @ 15:47:26] Energy consumed for all CPUs : 0.000725 kWh. Total CPU Power : 7.5 W\n",
      "[codecarbon INFO @ 15:47:26] 0.001281 kWh of electricity used since the beginning.\n"
     ]
    },
    {
     "name": "stdout",
     "output_type": "stream",
     "text": [
      "[CV 3/5] END clf__C=1, tfidf__max_df=0.95, tfidf__max_features=10000, tfidf__min_df=1, tfidf__ngram_range=(1, 2);, score=0.881 total time=   9.3s\n",
      "[CV 4/5] END clf__C=1, tfidf__max_df=0.95, tfidf__max_features=10000, tfidf__min_df=1, tfidf__ngram_range=(1, 2);, score=0.884 total time=   7.7s\n"
     ]
    },
    {
     "name": "stderr",
     "output_type": "stream",
     "text": [
      "[codecarbon INFO @ 15:47:42] Energy consumed for RAM : 0.000581 kWh. RAM Power : 5.762899875640869 W\n",
      "[codecarbon INFO @ 15:47:42] Energy consumed for all CPUs : 0.000758 kWh. Total CPU Power : 7.5 W\n",
      "[codecarbon INFO @ 15:47:42] 0.001338 kWh of electricity used since the beginning.\n",
      "[codecarbon INFO @ 15:47:42] 0.000009 g.CO2eq/s mean an estimation of 0.2754412584153085 kg.CO2eq/year\n"
     ]
    },
    {
     "name": "stdout",
     "output_type": "stream",
     "text": [
      "[CV 5/5] END clf__C=1, tfidf__max_df=0.95, tfidf__max_features=10000, tfidf__min_df=1, tfidf__ngram_range=(1, 2);, score=0.877 total time=   7.4s\n",
      "[CV 1/5] END clf__C=1, tfidf__max_df=0.95, tfidf__max_features=10000, tfidf__min_df=2, tfidf__ngram_range=(1, 1);, score=0.883 total time=   1.9s\n",
      "[CV 2/5] END clf__C=1, tfidf__max_df=0.95, tfidf__max_features=10000, tfidf__min_df=2, tfidf__ngram_range=(1, 1);, score=0.877 total time=   1.9s\n",
      "[CV 3/5] END clf__C=1, tfidf__max_df=0.95, tfidf__max_features=10000, tfidf__min_df=2, tfidf__ngram_range=(1, 1);, score=0.884 total time=   1.9s\n",
      "[CV 4/5] END clf__C=1, tfidf__max_df=0.95, tfidf__max_features=10000, tfidf__min_df=2, tfidf__ngram_range=(1, 1);, score=0.884 total time=   1.9s\n",
      "[CV 5/5] END clf__C=1, tfidf__max_df=0.95, tfidf__max_features=10000, tfidf__min_df=2, tfidf__ngram_range=(1, 1);, score=0.877 total time=   1.9s\n"
     ]
    },
    {
     "name": "stderr",
     "output_type": "stream",
     "text": [
      "[codecarbon INFO @ 15:47:57] Energy consumed for RAM : 0.000605 kWh. RAM Power : 5.762899875640869 W\n",
      "[codecarbon INFO @ 15:47:57] Energy consumed for all CPUs : 0.000789 kWh. Total CPU Power : 7.5 W\n",
      "[codecarbon INFO @ 15:47:57] 0.001394 kWh of electricity used since the beginning.\n"
     ]
    },
    {
     "name": "stdout",
     "output_type": "stream",
     "text": [
      "[CV 1/5] END clf__C=1, tfidf__max_df=0.95, tfidf__max_features=10000, tfidf__min_df=2, tfidf__ngram_range=(1, 2);, score=0.888 total time=   7.3s\n",
      "[CV 2/5] END clf__C=1, tfidf__max_df=0.95, tfidf__max_features=10000, tfidf__min_df=2, tfidf__ngram_range=(1, 2);, score=0.882 total time=   7.4s\n"
     ]
    },
    {
     "name": "stderr",
     "output_type": "stream",
     "text": [
      "[codecarbon INFO @ 15:48:13] Energy consumed for RAM : 0.000631 kWh. RAM Power : 5.762899875640869 W\n",
      "[codecarbon INFO @ 15:48:13] Energy consumed for all CPUs : 0.000824 kWh. Total CPU Power : 7.5 W\n",
      "[codecarbon INFO @ 15:48:13] 0.001455 kWh of electricity used since the beginning.\n"
     ]
    },
    {
     "name": "stdout",
     "output_type": "stream",
     "text": [
      "[CV 3/5] END clf__C=1, tfidf__max_df=0.95, tfidf__max_features=10000, tfidf__min_df=2, tfidf__ngram_range=(1, 2);, score=0.881 total time=   7.3s\n",
      "[CV 4/5] END clf__C=1, tfidf__max_df=0.95, tfidf__max_features=10000, tfidf__min_df=2, tfidf__ngram_range=(1, 2);, score=0.884 total time=   7.4s\n"
     ]
    },
    {
     "name": "stderr",
     "output_type": "stream",
     "text": [
      "[codecarbon INFO @ 15:48:28] Energy consumed for RAM : 0.000655 kWh. RAM Power : 5.762899875640869 W\n",
      "[codecarbon INFO @ 15:48:28] Energy consumed for all CPUs : 0.000855 kWh. Total CPU Power : 7.5 W\n",
      "[codecarbon INFO @ 15:48:28] 0.001510 kWh of electricity used since the beginning.\n"
     ]
    },
    {
     "name": "stdout",
     "output_type": "stream",
     "text": [
      "[CV 5/5] END clf__C=1, tfidf__max_df=0.95, tfidf__max_features=10000, tfidf__min_df=2, tfidf__ngram_range=(1, 2);, score=0.877 total time=   8.0s\n",
      "[CV 1/5] END clf__C=10, tfidf__max_df=0.9, tfidf__max_features=5000, tfidf__min_df=1, tfidf__ngram_range=(1, 1);, score=0.872 total time=   2.0s\n",
      "[CV 2/5] END clf__C=10, tfidf__max_df=0.9, tfidf__max_features=5000, tfidf__min_df=1, tfidf__ngram_range=(1, 1);, score=0.864 total time=   2.2s\n",
      "[CV 3/5] END clf__C=10, tfidf__max_df=0.9, tfidf__max_features=5000, tfidf__min_df=1, tfidf__ngram_range=(1, 1);, score=0.869 total time=   2.0s\n",
      "[CV 4/5] END clf__C=10, tfidf__max_df=0.9, tfidf__max_features=5000, tfidf__min_df=1, tfidf__ngram_range=(1, 1);, score=0.875 total time=   2.3s\n",
      "[CV 5/5] END clf__C=10, tfidf__max_df=0.9, tfidf__max_features=5000, tfidf__min_df=1, tfidf__ngram_range=(1, 1);, score=0.864 total time=   2.0s\n"
     ]
    },
    {
     "name": "stderr",
     "output_type": "stream",
     "text": [
      "[codecarbon INFO @ 15:48:43] Energy consumed for RAM : 0.000679 kWh. RAM Power : 5.762899875640869 W\n",
      "[codecarbon INFO @ 15:48:44] Energy consumed for all CPUs : 0.000886 kWh. Total CPU Power : 7.5 W\n",
      "[codecarbon INFO @ 15:48:44] 0.001565 kWh of electricity used since the beginning.\n"
     ]
    },
    {
     "name": "stdout",
     "output_type": "stream",
     "text": [
      "[CV 1/5] END clf__C=10, tfidf__max_df=0.9, tfidf__max_features=5000, tfidf__min_df=1, tfidf__ngram_range=(1, 2);, score=0.876 total time=   7.3s\n",
      "[CV 2/5] END clf__C=10, tfidf__max_df=0.9, tfidf__max_features=5000, tfidf__min_df=1, tfidf__ngram_range=(1, 2);, score=0.870 total time=   7.3s\n"
     ]
    },
    {
     "name": "stderr",
     "output_type": "stream",
     "text": [
      "[codecarbon INFO @ 15:48:59] Energy consumed for RAM : 0.000703 kWh. RAM Power : 5.762899875640869 W\n",
      "[codecarbon INFO @ 15:48:59] Energy consumed for all CPUs : 0.000918 kWh. Total CPU Power : 7.5 W\n",
      "[codecarbon INFO @ 15:48:59] 0.001620 kWh of electricity used since the beginning.\n"
     ]
    },
    {
     "name": "stdout",
     "output_type": "stream",
     "text": [
      "[CV 3/5] END clf__C=10, tfidf__max_df=0.9, tfidf__max_features=5000, tfidf__min_df=1, tfidf__ngram_range=(1, 2);, score=0.877 total time=   7.4s\n",
      "[CV 4/5] END clf__C=10, tfidf__max_df=0.9, tfidf__max_features=5000, tfidf__min_df=1, tfidf__ngram_range=(1, 2);, score=0.878 total time=   7.4s\n"
     ]
    },
    {
     "name": "stderr",
     "output_type": "stream",
     "text": [
      "[codecarbon INFO @ 15:49:14] Energy consumed for RAM : 0.000727 kWh. RAM Power : 5.762899875640869 W\n",
      "[codecarbon INFO @ 15:49:14] Energy consumed for all CPUs : 0.000949 kWh. Total CPU Power : 7.5 W\n",
      "[codecarbon INFO @ 15:49:14] 0.001676 kWh of electricity used since the beginning.\n"
     ]
    },
    {
     "name": "stdout",
     "output_type": "stream",
     "text": [
      "[CV 5/5] END clf__C=10, tfidf__max_df=0.9, tfidf__max_features=5000, tfidf__min_df=1, tfidf__ngram_range=(1, 2);, score=0.861 total time=   7.4s\n",
      "[CV 1/5] END clf__C=10, tfidf__max_df=0.9, tfidf__max_features=5000, tfidf__min_df=2, tfidf__ngram_range=(1, 1);, score=0.871 total time=   1.9s\n",
      "[CV 2/5] END clf__C=10, tfidf__max_df=0.9, tfidf__max_features=5000, tfidf__min_df=2, tfidf__ngram_range=(1, 1);, score=0.864 total time=   1.9s\n",
      "[CV 3/5] END clf__C=10, tfidf__max_df=0.9, tfidf__max_features=5000, tfidf__min_df=2, tfidf__ngram_range=(1, 1);, score=0.869 total time=   1.9s\n",
      "[CV 4/5] END clf__C=10, tfidf__max_df=0.9, tfidf__max_features=5000, tfidf__min_df=2, tfidf__ngram_range=(1, 1);, score=0.875 total time=   1.9s\n"
     ]
    },
    {
     "name": "stderr",
     "output_type": "stream",
     "text": [
      "[codecarbon INFO @ 15:49:29] Energy consumed for RAM : 0.000751 kWh. RAM Power : 5.762899875640869 W\n",
      "[codecarbon INFO @ 15:49:29] Energy consumed for all CPUs : 0.000980 kWh. Total CPU Power : 7.5 W\n",
      "[codecarbon INFO @ 15:49:29] 0.001730 kWh of electricity used since the beginning.\n"
     ]
    },
    {
     "name": "stdout",
     "output_type": "stream",
     "text": [
      "[CV 5/5] END clf__C=10, tfidf__max_df=0.9, tfidf__max_features=5000, tfidf__min_df=2, tfidf__ngram_range=(1, 1);, score=0.864 total time=   1.9s\n",
      "[CV 1/5] END clf__C=10, tfidf__max_df=0.9, tfidf__max_features=5000, tfidf__min_df=2, tfidf__ngram_range=(1, 2);, score=0.875 total time=   7.5s\n"
     ]
    },
    {
     "name": "stderr",
     "output_type": "stream",
     "text": [
      "[codecarbon INFO @ 15:49:44] Energy consumed for RAM : 0.000775 kWh. RAM Power : 5.762899875640869 W\n",
      "[codecarbon INFO @ 15:49:44] Energy consumed for all CPUs : 0.001011 kWh. Total CPU Power : 7.5 W\n",
      "[codecarbon INFO @ 15:49:44] 0.001786 kWh of electricity used since the beginning.\n",
      "[codecarbon INFO @ 15:49:44] 0.000009 g.CO2eq/s mean an estimation of 0.2753206051629884 kg.CO2eq/year\n"
     ]
    },
    {
     "name": "stdout",
     "output_type": "stream",
     "text": [
      "[CV 2/5] END clf__C=10, tfidf__max_df=0.9, tfidf__max_features=5000, tfidf__min_df=2, tfidf__ngram_range=(1, 2);, score=0.870 total time=   7.5s\n",
      "[CV 3/5] END clf__C=10, tfidf__max_df=0.9, tfidf__max_features=5000, tfidf__min_df=2, tfidf__ngram_range=(1, 2);, score=0.876 total time=   7.5s\n"
     ]
    },
    {
     "name": "stderr",
     "output_type": "stream",
     "text": [
      "[codecarbon INFO @ 15:49:59] Energy consumed for RAM : 0.000798 kWh. RAM Power : 5.762899875640869 W\n",
      "[codecarbon INFO @ 15:49:59] Energy consumed for all CPUs : 0.001042 kWh. Total CPU Power : 7.5 W\n",
      "[codecarbon INFO @ 15:49:59] 0.001841 kWh of electricity used since the beginning.\n"
     ]
    },
    {
     "name": "stdout",
     "output_type": "stream",
     "text": [
      "[CV 4/5] END clf__C=10, tfidf__max_df=0.9, tfidf__max_features=5000, tfidf__min_df=2, tfidf__ngram_range=(1, 2);, score=0.877 total time=   7.4s\n",
      "[CV 5/5] END clf__C=10, tfidf__max_df=0.9, tfidf__max_features=5000, tfidf__min_df=2, tfidf__ngram_range=(1, 2);, score=0.860 total time=   7.6s\n",
      "[CV 1/5] END clf__C=10, tfidf__max_df=0.9, tfidf__max_features=10000, tfidf__min_df=1, tfidf__ngram_range=(1, 1);, score=0.881 total time=   2.5s\n",
      "[CV 2/5] END clf__C=10, tfidf__max_df=0.9, tfidf__max_features=10000, tfidf__min_df=1, tfidf__ngram_range=(1, 1);, score=0.876 total time=   2.3s\n"
     ]
    },
    {
     "name": "stderr",
     "output_type": "stream",
     "text": [
      "[codecarbon INFO @ 15:50:14] Energy consumed for RAM : 0.000822 kWh. RAM Power : 5.762899875640869 W\n",
      "[codecarbon INFO @ 15:50:14] Energy consumed for all CPUs : 0.001073 kWh. Total CPU Power : 7.5 W\n",
      "[codecarbon INFO @ 15:50:14] 0.001896 kWh of electricity used since the beginning.\n"
     ]
    },
    {
     "name": "stdout",
     "output_type": "stream",
     "text": [
      "[CV 3/5] END clf__C=10, tfidf__max_df=0.9, tfidf__max_features=10000, tfidf__min_df=1, tfidf__ngram_range=(1, 1);, score=0.879 total time=   2.4s\n",
      "[CV 4/5] END clf__C=10, tfidf__max_df=0.9, tfidf__max_features=10000, tfidf__min_df=1, tfidf__ngram_range=(1, 1);, score=0.879 total time=   2.3s\n",
      "[CV 5/5] END clf__C=10, tfidf__max_df=0.9, tfidf__max_features=10000, tfidf__min_df=1, tfidf__ngram_range=(1, 1);, score=0.870 total time=   2.2s\n",
      "[CV 1/5] END clf__C=10, tfidf__max_df=0.9, tfidf__max_features=10000, tfidf__min_df=1, tfidf__ngram_range=(1, 2);, score=0.886 total time=   8.1s\n"
     ]
    },
    {
     "name": "stderr",
     "output_type": "stream",
     "text": [
      "[codecarbon INFO @ 15:50:29] Energy consumed for RAM : 0.000846 kWh. RAM Power : 5.762899875640869 W\n",
      "[codecarbon INFO @ 15:50:29] Energy consumed for all CPUs : 0.001105 kWh. Total CPU Power : 7.5 W\n",
      "[codecarbon INFO @ 15:50:29] 0.001951 kWh of electricity used since the beginning.\n"
     ]
    },
    {
     "name": "stdout",
     "output_type": "stream",
     "text": [
      "[CV 2/5] END clf__C=10, tfidf__max_df=0.9, tfidf__max_features=10000, tfidf__min_df=1, tfidf__ngram_range=(1, 2);, score=0.880 total time=   8.0s\n",
      "[CV 3/5] END clf__C=10, tfidf__max_df=0.9, tfidf__max_features=10000, tfidf__min_df=1, tfidf__ngram_range=(1, 2);, score=0.883 total time=   7.8s\n"
     ]
    },
    {
     "name": "stderr",
     "output_type": "stream",
     "text": [
      "[codecarbon INFO @ 15:50:44] Energy consumed for RAM : 0.000870 kWh. RAM Power : 5.762899875640869 W\n",
      "[codecarbon INFO @ 15:50:44] Energy consumed for all CPUs : 0.001136 kWh. Total CPU Power : 7.5 W\n",
      "[codecarbon INFO @ 15:50:44] 0.002006 kWh of electricity used since the beginning.\n"
     ]
    },
    {
     "name": "stdout",
     "output_type": "stream",
     "text": [
      "[CV 4/5] END clf__C=10, tfidf__max_df=0.9, tfidf__max_features=10000, tfidf__min_df=1, tfidf__ngram_range=(1, 2);, score=0.885 total time=   7.9s\n",
      "[CV 5/5] END clf__C=10, tfidf__max_df=0.9, tfidf__max_features=10000, tfidf__min_df=1, tfidf__ngram_range=(1, 2);, score=0.871 total time=   7.8s\n"
     ]
    },
    {
     "name": "stderr",
     "output_type": "stream",
     "text": [
      "[codecarbon INFO @ 15:50:59] Energy consumed for RAM : 0.000894 kWh. RAM Power : 5.762899875640869 W\n",
      "[codecarbon INFO @ 15:50:59] Energy consumed for all CPUs : 0.001167 kWh. Total CPU Power : 7.5 W\n",
      "[codecarbon INFO @ 15:50:59] 0.002061 kWh of electricity used since the beginning.\n"
     ]
    },
    {
     "name": "stdout",
     "output_type": "stream",
     "text": [
      "[CV 1/5] END clf__C=10, tfidf__max_df=0.9, tfidf__max_features=10000, tfidf__min_df=2, tfidf__ngram_range=(1, 1);, score=0.880 total time=   2.8s\n",
      "[CV 2/5] END clf__C=10, tfidf__max_df=0.9, tfidf__max_features=10000, tfidf__min_df=2, tfidf__ngram_range=(1, 1);, score=0.876 total time=   2.4s\n",
      "[CV 3/5] END clf__C=10, tfidf__max_df=0.9, tfidf__max_features=10000, tfidf__min_df=2, tfidf__ngram_range=(1, 1);, score=0.877 total time=   2.3s\n",
      "[CV 4/5] END clf__C=10, tfidf__max_df=0.9, tfidf__max_features=10000, tfidf__min_df=2, tfidf__ngram_range=(1, 1);, score=0.879 total time=   2.4s\n",
      "[CV 5/5] END clf__C=10, tfidf__max_df=0.9, tfidf__max_features=10000, tfidf__min_df=2, tfidf__ngram_range=(1, 1);, score=0.870 total time=   2.3s\n"
     ]
    },
    {
     "name": "stderr",
     "output_type": "stream",
     "text": [
      "[codecarbon INFO @ 15:51:15] Energy consumed for RAM : 0.000920 kWh. RAM Power : 5.762899875640869 W\n",
      "[codecarbon INFO @ 15:51:15] Energy consumed for all CPUs : 0.001200 kWh. Total CPU Power : 7.5 W\n",
      "[codecarbon INFO @ 15:51:15] 0.002120 kWh of electricity used since the beginning.\n"
     ]
    },
    {
     "name": "stdout",
     "output_type": "stream",
     "text": [
      "[CV 1/5] END clf__C=10, tfidf__max_df=0.9, tfidf__max_features=10000, tfidf__min_df=2, tfidf__ngram_range=(1, 2);, score=0.886 total time=   7.7s\n",
      "[CV 2/5] END clf__C=10, tfidf__max_df=0.9, tfidf__max_features=10000, tfidf__min_df=2, tfidf__ngram_range=(1, 2);, score=0.880 total time=   7.7s\n"
     ]
    },
    {
     "name": "stderr",
     "output_type": "stream",
     "text": [
      "[codecarbon INFO @ 15:51:30] Energy consumed for RAM : 0.000944 kWh. RAM Power : 5.762899875640869 W\n",
      "[codecarbon INFO @ 15:51:30] Energy consumed for all CPUs : 0.001232 kWh. Total CPU Power : 7.5 W\n",
      "[codecarbon INFO @ 15:51:30] 0.002177 kWh of electricity used since the beginning.\n"
     ]
    },
    {
     "name": "stdout",
     "output_type": "stream",
     "text": [
      "[CV 3/5] END clf__C=10, tfidf__max_df=0.9, tfidf__max_features=10000, tfidf__min_df=2, tfidf__ngram_range=(1, 2);, score=0.883 total time=   8.0s\n",
      "[CV 4/5] END clf__C=10, tfidf__max_df=0.9, tfidf__max_features=10000, tfidf__min_df=2, tfidf__ngram_range=(1, 2);, score=0.885 total time=   8.1s\n"
     ]
    },
    {
     "name": "stderr",
     "output_type": "stream",
     "text": [
      "[codecarbon INFO @ 15:51:46] Energy consumed for RAM : 0.000970 kWh. RAM Power : 5.762899875640869 W\n",
      "[codecarbon INFO @ 15:51:46] Energy consumed for all CPUs : 0.001266 kWh. Total CPU Power : 7.5 W\n",
      "[codecarbon INFO @ 15:51:46] 0.002237 kWh of electricity used since the beginning.\n",
      "[codecarbon INFO @ 15:51:46] 0.000009 g.CO2eq/s mean an estimation of 0.2754421427170054 kg.CO2eq/year\n"
     ]
    },
    {
     "name": "stdout",
     "output_type": "stream",
     "text": [
      "[CV 5/5] END clf__C=10, tfidf__max_df=0.9, tfidf__max_features=10000, tfidf__min_df=2, tfidf__ngram_range=(1, 2);, score=0.872 total time=   8.0s\n",
      "[CV 1/5] END clf__C=10, tfidf__max_df=0.95, tfidf__max_features=5000, tfidf__min_df=1, tfidf__ngram_range=(1, 1);, score=0.872 total time=   1.9s\n",
      "[CV 2/5] END clf__C=10, tfidf__max_df=0.95, tfidf__max_features=5000, tfidf__min_df=1, tfidf__ngram_range=(1, 1);, score=0.864 total time=   2.0s\n",
      "[CV 3/5] END clf__C=10, tfidf__max_df=0.95, tfidf__max_features=5000, tfidf__min_df=1, tfidf__ngram_range=(1, 1);, score=0.869 total time=   2.0s\n",
      "[CV 4/5] END clf__C=10, tfidf__max_df=0.95, tfidf__max_features=5000, tfidf__min_df=1, tfidf__ngram_range=(1, 1);, score=0.875 total time=   1.9s\n",
      "[CV 5/5] END clf__C=10, tfidf__max_df=0.95, tfidf__max_features=5000, tfidf__min_df=1, tfidf__ngram_range=(1, 1);, score=0.864 total time=   1.9s\n"
     ]
    },
    {
     "name": "stderr",
     "output_type": "stream",
     "text": [
      "[codecarbon INFO @ 15:52:01] Energy consumed for RAM : 0.000994 kWh. RAM Power : 5.762899875640869 W\n",
      "[codecarbon INFO @ 15:52:01] Energy consumed for all CPUs : 0.001297 kWh. Total CPU Power : 7.5 W\n",
      "[codecarbon INFO @ 15:52:01] 0.002292 kWh of electricity used since the beginning.\n"
     ]
    },
    {
     "name": "stdout",
     "output_type": "stream",
     "text": [
      "[CV 1/5] END clf__C=10, tfidf__max_df=0.95, tfidf__max_features=5000, tfidf__min_df=1, tfidf__ngram_range=(1, 2);, score=0.876 total time=   7.8s\n",
      "[CV 2/5] END clf__C=10, tfidf__max_df=0.95, tfidf__max_features=5000, tfidf__min_df=1, tfidf__ngram_range=(1, 2);, score=0.870 total time=   7.5s\n"
     ]
    },
    {
     "name": "stderr",
     "output_type": "stream",
     "text": [
      "[codecarbon INFO @ 15:52:16] Energy consumed for RAM : 0.001018 kWh. RAM Power : 5.762899875640869 W\n",
      "[codecarbon INFO @ 15:52:16] Energy consumed for all CPUs : 0.001329 kWh. Total CPU Power : 7.5 W\n",
      "[codecarbon INFO @ 15:52:16] 0.002347 kWh of electricity used since the beginning.\n"
     ]
    },
    {
     "name": "stdout",
     "output_type": "stream",
     "text": [
      "[CV 3/5] END clf__C=10, tfidf__max_df=0.95, tfidf__max_features=5000, tfidf__min_df=1, tfidf__ngram_range=(1, 2);, score=0.877 total time=   7.5s\n",
      "[CV 4/5] END clf__C=10, tfidf__max_df=0.95, tfidf__max_features=5000, tfidf__min_df=1, tfidf__ngram_range=(1, 2);, score=0.878 total time=   7.7s\n"
     ]
    },
    {
     "name": "stderr",
     "output_type": "stream",
     "text": [
      "[codecarbon INFO @ 15:52:31] Energy consumed for RAM : 0.001042 kWh. RAM Power : 5.762899875640869 W\n",
      "[codecarbon INFO @ 15:52:31] Energy consumed for all CPUs : 0.001360 kWh. Total CPU Power : 7.5 W\n",
      "[codecarbon INFO @ 15:52:31] 0.002402 kWh of electricity used since the beginning.\n"
     ]
    },
    {
     "name": "stdout",
     "output_type": "stream",
     "text": [
      "[CV 5/5] END clf__C=10, tfidf__max_df=0.95, tfidf__max_features=5000, tfidf__min_df=1, tfidf__ngram_range=(1, 2);, score=0.861 total time=   8.3s\n",
      "[CV 1/5] END clf__C=10, tfidf__max_df=0.95, tfidf__max_features=5000, tfidf__min_df=2, tfidf__ngram_range=(1, 1);, score=0.871 total time=   1.9s\n",
      "[CV 2/5] END clf__C=10, tfidf__max_df=0.95, tfidf__max_features=5000, tfidf__min_df=2, tfidf__ngram_range=(1, 1);, score=0.864 total time=   2.0s\n",
      "[CV 3/5] END clf__C=10, tfidf__max_df=0.95, tfidf__max_features=5000, tfidf__min_df=2, tfidf__ngram_range=(1, 1);, score=0.869 total time=   1.9s\n",
      "[CV 4/5] END clf__C=10, tfidf__max_df=0.95, tfidf__max_features=5000, tfidf__min_df=2, tfidf__ngram_range=(1, 1);, score=0.875 total time=   1.8s\n"
     ]
    },
    {
     "name": "stderr",
     "output_type": "stream",
     "text": [
      "[codecarbon INFO @ 15:52:46] Energy consumed for RAM : 0.001066 kWh. RAM Power : 5.762899875640869 W\n",
      "[codecarbon INFO @ 15:52:46] Energy consumed for all CPUs : 0.001391 kWh. Total CPU Power : 7.5 W\n",
      "[codecarbon INFO @ 15:52:46] 0.002457 kWh of electricity used since the beginning.\n"
     ]
    },
    {
     "name": "stdout",
     "output_type": "stream",
     "text": [
      "[CV 5/5] END clf__C=10, tfidf__max_df=0.95, tfidf__max_features=5000, tfidf__min_df=2, tfidf__ngram_range=(1, 1);, score=0.864 total time=   1.9s\n",
      "[CV 1/5] END clf__C=10, tfidf__max_df=0.95, tfidf__max_features=5000, tfidf__min_df=2, tfidf__ngram_range=(1, 2);, score=0.875 total time=   7.2s\n"
     ]
    },
    {
     "name": "stderr",
     "output_type": "stream",
     "text": [
      "[codecarbon INFO @ 15:53:01] Energy consumed for RAM : 0.001090 kWh. RAM Power : 5.762899875640869 W\n",
      "[codecarbon INFO @ 15:53:01] Energy consumed for all CPUs : 0.001422 kWh. Total CPU Power : 7.5 W\n",
      "[codecarbon INFO @ 15:53:01] 0.002512 kWh of electricity used since the beginning.\n"
     ]
    },
    {
     "name": "stdout",
     "output_type": "stream",
     "text": [
      "[CV 2/5] END clf__C=10, tfidf__max_df=0.95, tfidf__max_features=5000, tfidf__min_df=2, tfidf__ngram_range=(1, 2);, score=0.870 total time=   7.5s\n",
      "[CV 3/5] END clf__C=10, tfidf__max_df=0.95, tfidf__max_features=5000, tfidf__min_df=2, tfidf__ngram_range=(1, 2);, score=0.876 total time=   7.4s\n"
     ]
    },
    {
     "name": "stderr",
     "output_type": "stream",
     "text": [
      "[codecarbon INFO @ 15:53:16] Energy consumed for RAM : 0.001114 kWh. RAM Power : 5.762899875640869 W\n",
      "[codecarbon INFO @ 15:53:16] Energy consumed for all CPUs : 0.001454 kWh. Total CPU Power : 7.5 W\n",
      "[codecarbon INFO @ 15:53:16] 0.002567 kWh of electricity used since the beginning.\n"
     ]
    },
    {
     "name": "stdout",
     "output_type": "stream",
     "text": [
      "[CV 4/5] END clf__C=10, tfidf__max_df=0.95, tfidf__max_features=5000, tfidf__min_df=2, tfidf__ngram_range=(1, 2);, score=0.877 total time=   7.3s\n",
      "[CV 5/5] END clf__C=10, tfidf__max_df=0.95, tfidf__max_features=5000, tfidf__min_df=2, tfidf__ngram_range=(1, 2);, score=0.860 total time=   7.4s\n",
      "[CV 1/5] END clf__C=10, tfidf__max_df=0.95, tfidf__max_features=10000, tfidf__min_df=1, tfidf__ngram_range=(1, 1);, score=0.881 total time=   2.2s\n",
      "[CV 2/5] END clf__C=10, tfidf__max_df=0.95, tfidf__max_features=10000, tfidf__min_df=1, tfidf__ngram_range=(1, 1);, score=0.876 total time=   2.4s\n"
     ]
    },
    {
     "name": "stderr",
     "output_type": "stream",
     "text": [
      "[codecarbon INFO @ 15:53:31] Energy consumed for RAM : 0.001138 kWh. RAM Power : 5.762899875640869 W\n",
      "[codecarbon INFO @ 15:53:31] Energy consumed for all CPUs : 0.001485 kWh. Total CPU Power : 7.5 W\n",
      "[codecarbon INFO @ 15:53:31] 0.002623 kWh of electricity used since the beginning.\n"
     ]
    },
    {
     "name": "stdout",
     "output_type": "stream",
     "text": [
      "[CV 3/5] END clf__C=10, tfidf__max_df=0.95, tfidf__max_features=10000, tfidf__min_df=1, tfidf__ngram_range=(1, 1);, score=0.879 total time=   2.6s\n",
      "[CV 4/5] END clf__C=10, tfidf__max_df=0.95, tfidf__max_features=10000, tfidf__min_df=1, tfidf__ngram_range=(1, 1);, score=0.879 total time=   2.4s\n",
      "[CV 5/5] END clf__C=10, tfidf__max_df=0.95, tfidf__max_features=10000, tfidf__min_df=1, tfidf__ngram_range=(1, 1);, score=0.870 total time=   2.2s\n",
      "[CV 1/5] END clf__C=10, tfidf__max_df=0.95, tfidf__max_features=10000, tfidf__min_df=1, tfidf__ngram_range=(1, 2);, score=0.886 total time=   7.7s\n"
     ]
    },
    {
     "name": "stderr",
     "output_type": "stream",
     "text": [
      "[codecarbon INFO @ 15:53:46] Energy consumed for RAM : 0.001162 kWh. RAM Power : 5.762899875640869 W\n",
      "[codecarbon INFO @ 15:53:46] Energy consumed for all CPUs : 0.001516 kWh. Total CPU Power : 7.5 W\n",
      "[codecarbon INFO @ 15:53:46] 0.002678 kWh of electricity used since the beginning.\n",
      "[codecarbon INFO @ 15:53:46] 0.000009 g.CO2eq/s mean an estimation of 0.27570469699242994 kg.CO2eq/year\n"
     ]
    },
    {
     "name": "stdout",
     "output_type": "stream",
     "text": [
      "[CV 2/5] END clf__C=10, tfidf__max_df=0.95, tfidf__max_features=10000, tfidf__min_df=1, tfidf__ngram_range=(1, 2);, score=0.880 total time=   7.8s\n",
      "[CV 3/5] END clf__C=10, tfidf__max_df=0.95, tfidf__max_features=10000, tfidf__min_df=1, tfidf__ngram_range=(1, 2);, score=0.883 total time=   7.8s\n"
     ]
    },
    {
     "name": "stderr",
     "output_type": "stream",
     "text": [
      "[codecarbon INFO @ 15:54:01] Energy consumed for RAM : 0.001186 kWh. RAM Power : 5.762899875640869 W\n",
      "[codecarbon INFO @ 15:54:01] Energy consumed for all CPUs : 0.001547 kWh. Total CPU Power : 7.5 W\n",
      "[codecarbon INFO @ 15:54:01] 0.002733 kWh of electricity used since the beginning.\n"
     ]
    },
    {
     "name": "stdout",
     "output_type": "stream",
     "text": [
      "[CV 4/5] END clf__C=10, tfidf__max_df=0.95, tfidf__max_features=10000, tfidf__min_df=1, tfidf__ngram_range=(1, 2);, score=0.885 total time=   7.9s\n",
      "[CV 5/5] END clf__C=10, tfidf__max_df=0.95, tfidf__max_features=10000, tfidf__min_df=1, tfidf__ngram_range=(1, 2);, score=0.871 total time=   7.7s\n"
     ]
    },
    {
     "name": "stderr",
     "output_type": "stream",
     "text": [
      "[codecarbon INFO @ 15:54:16] Energy consumed for RAM : 0.001210 kWh. RAM Power : 5.762899875640869 W\n",
      "[codecarbon INFO @ 15:54:16] Energy consumed for all CPUs : 0.001579 kWh. Total CPU Power : 7.5 W\n",
      "[codecarbon INFO @ 15:54:16] 0.002788 kWh of electricity used since the beginning.\n"
     ]
    },
    {
     "name": "stdout",
     "output_type": "stream",
     "text": [
      "[CV 1/5] END clf__C=10, tfidf__max_df=0.95, tfidf__max_features=10000, tfidf__min_df=2, tfidf__ngram_range=(1, 1);, score=0.880 total time=   2.4s\n",
      "[CV 2/5] END clf__C=10, tfidf__max_df=0.95, tfidf__max_features=10000, tfidf__min_df=2, tfidf__ngram_range=(1, 1);, score=0.876 total time=   2.4s\n",
      "[CV 3/5] END clf__C=10, tfidf__max_df=0.95, tfidf__max_features=10000, tfidf__min_df=2, tfidf__ngram_range=(1, 1);, score=0.877 total time=   2.3s\n",
      "[CV 4/5] END clf__C=10, tfidf__max_df=0.95, tfidf__max_features=10000, tfidf__min_df=2, tfidf__ngram_range=(1, 1);, score=0.879 total time=   2.5s\n",
      "[CV 5/5] END clf__C=10, tfidf__max_df=0.95, tfidf__max_features=10000, tfidf__min_df=2, tfidf__ngram_range=(1, 1);, score=0.870 total time=   2.4s\n"
     ]
    },
    {
     "name": "stderr",
     "output_type": "stream",
     "text": [
      "[codecarbon INFO @ 15:54:32] Energy consumed for RAM : 0.001235 kWh. RAM Power : 5.762899875640869 W\n",
      "[codecarbon INFO @ 15:54:32] Energy consumed for all CPUs : 0.001611 kWh. Total CPU Power : 7.5 W\n",
      "[codecarbon INFO @ 15:54:32] 0.002846 kWh of electricity used since the beginning.\n"
     ]
    },
    {
     "name": "stdout",
     "output_type": "stream",
     "text": [
      "[CV 1/5] END clf__C=10, tfidf__max_df=0.95, tfidf__max_features=10000, tfidf__min_df=2, tfidf__ngram_range=(1, 2);, score=0.886 total time=   8.9s\n",
      "[CV 2/5] END clf__C=10, tfidf__max_df=0.95, tfidf__max_features=10000, tfidf__min_df=2, tfidf__ngram_range=(1, 2);, score=0.880 total time=   7.4s\n"
     ]
    },
    {
     "name": "stderr",
     "output_type": "stream",
     "text": [
      "[codecarbon INFO @ 15:54:48] Energy consumed for RAM : 0.001260 kWh. RAM Power : 5.762899875640869 W\n",
      "[codecarbon INFO @ 15:54:48] Energy consumed for all CPUs : 0.001644 kWh. Total CPU Power : 7.5 W\n",
      "[codecarbon INFO @ 15:54:48] 0.002904 kWh of electricity used since the beginning.\n"
     ]
    },
    {
     "name": "stdout",
     "output_type": "stream",
     "text": [
      "[CV 3/5] END clf__C=10, tfidf__max_df=0.95, tfidf__max_features=10000, tfidf__min_df=2, tfidf__ngram_range=(1, 2);, score=0.883 total time=   7.2s\n",
      "[CV 4/5] END clf__C=10, tfidf__max_df=0.95, tfidf__max_features=10000, tfidf__min_df=2, tfidf__ngram_range=(1, 2);, score=0.885 total time=   7.2s\n"
     ]
    },
    {
     "name": "stderr",
     "output_type": "stream",
     "text": [
      "[codecarbon INFO @ 15:55:03] Energy consumed for RAM : 0.001284 kWh. RAM Power : 5.762899875640869 W\n",
      "[codecarbon INFO @ 15:55:03] Energy consumed for all CPUs : 0.001675 kWh. Total CPU Power : 7.5 W\n",
      "[codecarbon INFO @ 15:55:03] 0.002959 kWh of electricity used since the beginning.\n"
     ]
    },
    {
     "name": "stdout",
     "output_type": "stream",
     "text": [
      "[CV 5/5] END clf__C=10, tfidf__max_df=0.95, tfidf__max_features=10000, tfidf__min_df=2, tfidf__ngram_range=(1, 2);, score=0.872 total time=   7.3s\n",
      "\n",
      "Meilleurs paramètres : {'clf__C': 1, 'tfidf__max_df': 0.9, 'tfidf__max_features': 10000, 'tfidf__min_df': 1, 'tfidf__ngram_range': (1, 2)}\n",
      "Meilleur score : 0.8825333333333333\n",
      "\n",
      "Résultats complets :\n",
      "    mean_fit_time  std_fit_time  mean_score_time  std_score_time  \\\n",
      "0        1.577461      0.194175         0.326201        0.035216   \n",
      "1        7.377268      0.509706         0.611974        0.056360   \n",
      "2        1.553181      0.136544         0.328690        0.051816   \n",
      "3        6.940084      0.257180         0.556895        0.053464   \n",
      "4        1.479495      0.057803         0.350382        0.005430   \n",
      "5        7.041614      0.105120         0.705500        0.033465   \n",
      "6        1.654665      0.147193         0.373880        0.025452   \n",
      "7        7.000344      0.218915         0.685382        0.086200   \n",
      "8        1.462154      0.088262         0.296784        0.016936   \n",
      "9        7.196488      0.173839         0.610066        0.049712   \n",
      "10       1.458201      0.120681         0.318435        0.042077   \n",
      "11       6.752044      0.198697         0.619047        0.059343   \n",
      "12       1.825135      0.189285         0.389246        0.031793   \n",
      "13       8.035421      1.348570         0.777315        0.111083   \n",
      "14       1.536940      0.022731         0.361980        0.001644   \n",
      "15       6.851750      0.250784         0.646156        0.030454   \n",
      "16       1.768942      0.108386         0.319343        0.013846   \n",
      "17       6.832217      0.046333         0.551164        0.003636   \n",
      "18       1.609476      0.028168         0.306799        0.027100   \n",
      "19       6.922255      0.039499         0.591481        0.016404   \n",
      "20       1.995122      0.109701         0.359234        0.006107   \n",
      "21       7.299136      0.115597         0.632265        0.011527   \n",
      "22       2.089344      0.184165         0.370577        0.014311   \n",
      "23       7.251896      0.176935         0.653416        0.023706   \n",
      "24       1.657390      0.036997         0.299808        0.014256   \n",
      "25       7.173832      0.262567         0.577068        0.054906   \n",
      "26       1.610541      0.056111         0.293071        0.010447   \n",
      "27       6.792228      0.098168         0.565610        0.021708   \n",
      "28       1.990948      0.101302         0.380839        0.037290   \n",
      "29       7.174730      0.057435         0.623764        0.007854   \n",
      "30       2.016324      0.052859         0.379720        0.030599   \n",
      "31       7.010897      0.633296         0.607905        0.027861   \n",
      "\n",
      "    param_clf__C  param_tfidf__max_df  param_tfidf__max_features  \\\n",
      "0              1                 0.90                       5000   \n",
      "1              1                 0.90                       5000   \n",
      "2              1                 0.90                       5000   \n",
      "3              1                 0.90                       5000   \n",
      "4              1                 0.90                      10000   \n",
      "5              1                 0.90                      10000   \n",
      "6              1                 0.90                      10000   \n",
      "7              1                 0.90                      10000   \n",
      "8              1                 0.95                       5000   \n",
      "9              1                 0.95                       5000   \n",
      "10             1                 0.95                       5000   \n",
      "11             1                 0.95                       5000   \n",
      "12             1                 0.95                      10000   \n",
      "13             1                 0.95                      10000   \n",
      "14             1                 0.95                      10000   \n",
      "15             1                 0.95                      10000   \n",
      "16            10                 0.90                       5000   \n",
      "17            10                 0.90                       5000   \n",
      "18            10                 0.90                       5000   \n",
      "19            10                 0.90                       5000   \n",
      "20            10                 0.90                      10000   \n",
      "21            10                 0.90                      10000   \n",
      "22            10                 0.90                      10000   \n",
      "23            10                 0.90                      10000   \n",
      "24            10                 0.95                       5000   \n",
      "25            10                 0.95                       5000   \n",
      "26            10                 0.95                       5000   \n",
      "27            10                 0.95                       5000   \n",
      "28            10                 0.95                      10000   \n",
      "29            10                 0.95                      10000   \n",
      "30            10                 0.95                      10000   \n",
      "31            10                 0.95                      10000   \n",
      "\n",
      "    param_tfidf__min_df param_tfidf__ngram_range  \\\n",
      "0                     1                   (1, 1)   \n",
      "1                     1                   (1, 2)   \n",
      "2                     2                   (1, 1)   \n",
      "3                     2                   (1, 2)   \n",
      "4                     1                   (1, 1)   \n",
      "5                     1                   (1, 2)   \n",
      "6                     2                   (1, 1)   \n",
      "7                     2                   (1, 2)   \n",
      "8                     1                   (1, 1)   \n",
      "9                     1                   (1, 2)   \n",
      "10                    2                   (1, 1)   \n",
      "11                    2                   (1, 2)   \n",
      "12                    1                   (1, 1)   \n",
      "13                    1                   (1, 2)   \n",
      "14                    2                   (1, 1)   \n",
      "15                    2                   (1, 2)   \n",
      "16                    1                   (1, 1)   \n",
      "17                    1                   (1, 2)   \n",
      "18                    2                   (1, 1)   \n",
      "19                    2                   (1, 2)   \n",
      "20                    1                   (1, 1)   \n",
      "21                    1                   (1, 2)   \n",
      "22                    2                   (1, 1)   \n",
      "23                    2                   (1, 2)   \n",
      "24                    1                   (1, 1)   \n",
      "25                    1                   (1, 2)   \n",
      "26                    2                   (1, 1)   \n",
      "27                    2                   (1, 2)   \n",
      "28                    1                   (1, 1)   \n",
      "29                    1                   (1, 2)   \n",
      "30                    2                   (1, 1)   \n",
      "31                    2                   (1, 2)   \n",
      "\n",
      "                                               params  split0_test_score  \\\n",
      "0   {'clf__C': 1, 'tfidf__max_df': 0.9, 'tfidf__ma...           0.881333   \n",
      "1   {'clf__C': 1, 'tfidf__max_df': 0.9, 'tfidf__ma...           0.885000   \n",
      "2   {'clf__C': 1, 'tfidf__max_df': 0.9, 'tfidf__ma...           0.880667   \n",
      "3   {'clf__C': 1, 'tfidf__max_df': 0.9, 'tfidf__ma...           0.885000   \n",
      "4   {'clf__C': 1, 'tfidf__max_df': 0.9, 'tfidf__ma...           0.884000   \n",
      "5   {'clf__C': 1, 'tfidf__max_df': 0.9, 'tfidf__ma...           0.888333   \n",
      "6   {'clf__C': 1, 'tfidf__max_df': 0.9, 'tfidf__ma...           0.883333   \n",
      "7   {'clf__C': 1, 'tfidf__max_df': 0.9, 'tfidf__ma...           0.888000   \n",
      "8   {'clf__C': 1, 'tfidf__max_df': 0.95, 'tfidf__m...           0.881333   \n",
      "9   {'clf__C': 1, 'tfidf__max_df': 0.95, 'tfidf__m...           0.885000   \n",
      "10  {'clf__C': 1, 'tfidf__max_df': 0.95, 'tfidf__m...           0.880667   \n",
      "11  {'clf__C': 1, 'tfidf__max_df': 0.95, 'tfidf__m...           0.885000   \n",
      "12  {'clf__C': 1, 'tfidf__max_df': 0.95, 'tfidf__m...           0.884000   \n",
      "13  {'clf__C': 1, 'tfidf__max_df': 0.95, 'tfidf__m...           0.888333   \n",
      "14  {'clf__C': 1, 'tfidf__max_df': 0.95, 'tfidf__m...           0.883333   \n",
      "15  {'clf__C': 1, 'tfidf__max_df': 0.95, 'tfidf__m...           0.888000   \n",
      "16  {'clf__C': 10, 'tfidf__max_df': 0.9, 'tfidf__m...           0.871667   \n",
      "17  {'clf__C': 10, 'tfidf__max_df': 0.9, 'tfidf__m...           0.875667   \n",
      "18  {'clf__C': 10, 'tfidf__max_df': 0.9, 'tfidf__m...           0.871000   \n",
      "19  {'clf__C': 10, 'tfidf__max_df': 0.9, 'tfidf__m...           0.875333   \n",
      "20  {'clf__C': 10, 'tfidf__max_df': 0.9, 'tfidf__m...           0.881000   \n",
      "21  {'clf__C': 10, 'tfidf__max_df': 0.9, 'tfidf__m...           0.886000   \n",
      "22  {'clf__C': 10, 'tfidf__max_df': 0.9, 'tfidf__m...           0.880333   \n",
      "23  {'clf__C': 10, 'tfidf__max_df': 0.9, 'tfidf__m...           0.885667   \n",
      "24  {'clf__C': 10, 'tfidf__max_df': 0.95, 'tfidf__...           0.871667   \n",
      "25  {'clf__C': 10, 'tfidf__max_df': 0.95, 'tfidf__...           0.875667   \n",
      "26  {'clf__C': 10, 'tfidf__max_df': 0.95, 'tfidf__...           0.871000   \n",
      "27  {'clf__C': 10, 'tfidf__max_df': 0.95, 'tfidf__...           0.875333   \n",
      "28  {'clf__C': 10, 'tfidf__max_df': 0.95, 'tfidf__...           0.881000   \n",
      "29  {'clf__C': 10, 'tfidf__max_df': 0.95, 'tfidf__...           0.886000   \n",
      "30  {'clf__C': 10, 'tfidf__max_df': 0.95, 'tfidf__...           0.880333   \n",
      "31  {'clf__C': 10, 'tfidf__max_df': 0.95, 'tfidf__...           0.885667   \n",
      "\n",
      "    split1_test_score  split2_test_score  split3_test_score  \\\n",
      "0            0.873667           0.880667           0.880000   \n",
      "1            0.876333           0.880000           0.880667   \n",
      "2            0.874000           0.880667           0.879000   \n",
      "3            0.876333           0.880000           0.879667   \n",
      "4            0.877000           0.882333           0.883000   \n",
      "5            0.882000           0.881000           0.884333   \n",
      "6            0.877000           0.883667           0.883667   \n",
      "7            0.881667           0.881333           0.884333   \n",
      "8            0.873667           0.880667           0.880000   \n",
      "9            0.876333           0.880000           0.880667   \n",
      "10           0.874000           0.880667           0.879000   \n",
      "11           0.876333           0.880000           0.879667   \n",
      "12           0.877000           0.882333           0.883000   \n",
      "13           0.882000           0.881000           0.884333   \n",
      "14           0.877000           0.883667           0.883667   \n",
      "15           0.881667           0.881333           0.884333   \n",
      "16           0.863667           0.869000           0.875000   \n",
      "17           0.869667           0.877333           0.878333   \n",
      "18           0.863667           0.869333           0.875000   \n",
      "19           0.869667           0.876000           0.877000   \n",
      "20           0.876000           0.879333           0.879000   \n",
      "21           0.880000           0.883333           0.885000   \n",
      "22           0.875667           0.877333           0.878667   \n",
      "23           0.879667           0.882667           0.884667   \n",
      "24           0.863667           0.869000           0.875000   \n",
      "25           0.869667           0.877333           0.878333   \n",
      "26           0.863667           0.869333           0.875000   \n",
      "27           0.869667           0.876000           0.877000   \n",
      "28           0.876000           0.879333           0.879000   \n",
      "29           0.880000           0.883333           0.885000   \n",
      "30           0.875667           0.877333           0.878667   \n",
      "31           0.879667           0.882667           0.884667   \n",
      "\n",
      "    split4_test_score  mean_test_score  std_test_score  rank_test_score  \n",
      "0            0.872000         0.877533        0.003896               17  \n",
      "1            0.871000         0.878600        0.004692               13  \n",
      "2            0.871333         0.877133        0.003792               19  \n",
      "3            0.871000         0.878400        0.004621               15  \n",
      "4            0.877667         0.880800        0.002888               11  \n",
      "5            0.877000         0.882533        0.003745                1  \n",
      "6            0.877333         0.881000        0.003134                7  \n",
      "7            0.877333         0.882533        0.003531                1  \n",
      "8            0.872000         0.877533        0.003896               17  \n",
      "9            0.871000         0.878600        0.004692               13  \n",
      "10           0.871333         0.877133        0.003792               19  \n",
      "11           0.871000         0.878400        0.004621               15  \n",
      "12           0.877667         0.880800        0.002888               11  \n",
      "13           0.877000         0.882533        0.003745                1  \n",
      "14           0.877333         0.881000        0.003134                7  \n",
      "15           0.877333         0.882533        0.003531                1  \n",
      "16           0.864333         0.868733        0.004312               29  \n",
      "17           0.861000         0.872400        0.006444               25  \n",
      "18           0.864333         0.868667        0.004237               31  \n",
      "19           0.859667         0.871533        0.006459               27  \n",
      "20           0.870000         0.877067        0.003884               21  \n",
      "21           0.871000         0.881067        0.005430                5  \n",
      "22           0.869667         0.876333        0.003670               23  \n",
      "23           0.871667         0.880867        0.005036                9  \n",
      "24           0.864333         0.868733        0.004312               29  \n",
      "25           0.861000         0.872400        0.006444               25  \n",
      "26           0.864333         0.868667        0.004237               31  \n",
      "27           0.859667         0.871533        0.006459               27  \n",
      "28           0.870000         0.877067        0.003884               21  \n",
      "29           0.871000         0.881067        0.005430                5  \n",
      "30           0.869667         0.876333        0.003670               23  \n",
      "31           0.871667         0.880867        0.005036                9  \n"
     ]
    },
    {
     "name": "stderr",
     "output_type": "stream",
     "text": [
      "[codecarbon INFO @ 15:55:18] Energy consumed for RAM : 0.001308 kWh. RAM Power : 5.762899875640869 W\n",
      "[codecarbon INFO @ 15:55:18] Energy consumed for all CPUs : 0.001706 kWh. Total CPU Power : 7.5 W\n",
      "[codecarbon INFO @ 15:55:18] 0.003014 kWh of electricity used since the beginning.\n",
      "[codecarbon INFO @ 15:55:33] Energy consumed for RAM : 0.001332 kWh. RAM Power : 5.762899875640869 W\n",
      "[codecarbon INFO @ 15:55:33] Energy consumed for all CPUs : 0.001737 kWh. Total CPU Power : 7.5 W\n",
      "[codecarbon INFO @ 15:55:33] 0.003069 kWh of electricity used since the beginning.\n",
      "[codecarbon INFO @ 15:55:48] Energy consumed for RAM : 0.001356 kWh. RAM Power : 5.762899875640869 W\n",
      "[codecarbon INFO @ 15:55:48] Energy consumed for all CPUs : 0.001769 kWh. Total CPU Power : 7.5 W\n",
      "[codecarbon INFO @ 15:55:48] 0.003124 kWh of electricity used since the beginning.\n",
      "[codecarbon INFO @ 15:55:48] 0.000009 g.CO2eq/s mean an estimation of 0.2752625734602194 kg.CO2eq/year\n",
      "[codecarbon INFO @ 15:56:03] Energy consumed for RAM : 0.001380 kWh. RAM Power : 5.762899875640869 W\n",
      "[codecarbon INFO @ 15:56:03] Energy consumed for all CPUs : 0.001800 kWh. Total CPU Power : 7.5 W\n",
      "[codecarbon INFO @ 15:56:03] 0.003180 kWh of electricity used since the beginning.\n",
      "[codecarbon INFO @ 15:56:18] Energy consumed for RAM : 0.001404 kWh. RAM Power : 5.762899875640869 W\n",
      "[codecarbon INFO @ 15:56:18] Energy consumed for all CPUs : 0.001831 kWh. Total CPU Power : 7.5 W\n",
      "[codecarbon INFO @ 15:56:18] 0.003235 kWh of electricity used since the beginning.\n",
      "[codecarbon INFO @ 15:56:33] Energy consumed for RAM : 0.001428 kWh. RAM Power : 5.762899875640869 W\n",
      "[codecarbon INFO @ 15:56:33] Energy consumed for all CPUs : 0.001862 kWh. Total CPU Power : 7.5 W\n",
      "[codecarbon INFO @ 15:56:33] 0.003290 kWh of electricity used since the beginning.\n",
      "[codecarbon INFO @ 15:56:48] Energy consumed for RAM : 0.001452 kWh. RAM Power : 5.762899875640869 W\n",
      "[codecarbon INFO @ 15:56:48] Energy consumed for all CPUs : 0.001894 kWh. Total CPU Power : 7.5 W\n",
      "[codecarbon INFO @ 15:56:48] 0.003345 kWh of electricity used since the beginning.\n",
      "[codecarbon INFO @ 15:57:03] Energy consumed for RAM : 0.001476 kWh. RAM Power : 5.762899875640869 W\n",
      "[codecarbon INFO @ 15:57:03] Energy consumed for all CPUs : 0.001925 kWh. Total CPU Power : 7.5 W\n",
      "[codecarbon INFO @ 15:57:03] 0.003400 kWh of electricity used since the beginning.\n",
      "[codecarbon INFO @ 15:57:18] Energy consumed for RAM : 0.001500 kWh. RAM Power : 5.762899875640869 W\n",
      "[codecarbon INFO @ 15:57:18] Energy consumed for all CPUs : 0.001956 kWh. Total CPU Power : 7.5 W\n",
      "[codecarbon INFO @ 15:57:18] 0.003456 kWh of electricity used since the beginning.\n",
      "[codecarbon INFO @ 15:57:33] Energy consumed for RAM : 0.001524 kWh. RAM Power : 5.762899875640869 W\n",
      "[codecarbon INFO @ 15:57:33] Energy consumed for all CPUs : 0.001987 kWh. Total CPU Power : 7.5 W\n",
      "[codecarbon INFO @ 15:57:33] 0.003511 kWh of electricity used since the beginning.\n",
      "[codecarbon INFO @ 15:57:48] Energy consumed for RAM : 0.001548 kWh. RAM Power : 5.762899875640869 W\n",
      "[codecarbon INFO @ 15:57:48] Energy consumed for all CPUs : 0.002019 kWh. Total CPU Power : 7.5 W\n",
      "[codecarbon INFO @ 15:57:48] 0.003566 kWh of electricity used since the beginning.\n",
      "[codecarbon INFO @ 15:57:48] 0.000009 g.CO2eq/s mean an estimation of 0.276046644012187 kg.CO2eq/year\n",
      "[codecarbon INFO @ 15:58:03] Energy consumed for RAM : 0.001572 kWh. RAM Power : 5.762899875640869 W\n",
      "[codecarbon INFO @ 15:58:03] Energy consumed for all CPUs : 0.002050 kWh. Total CPU Power : 7.5 W\n",
      "[codecarbon INFO @ 15:58:03] 0.003621 kWh of electricity used since the beginning.\n",
      "[codecarbon INFO @ 15:58:18] Energy consumed for RAM : 0.001596 kWh. RAM Power : 5.762899875640869 W\n",
      "[codecarbon INFO @ 15:58:18] Energy consumed for all CPUs : 0.002081 kWh. Total CPU Power : 7.5 W\n",
      "[codecarbon INFO @ 15:58:18] 0.003677 kWh of electricity used since the beginning.\n",
      "[codecarbon INFO @ 15:58:33] Energy consumed for RAM : 0.001620 kWh. RAM Power : 5.762899875640869 W\n",
      "[codecarbon INFO @ 15:58:33] Energy consumed for all CPUs : 0.002112 kWh. Total CPU Power : 7.5 W\n",
      "[codecarbon INFO @ 15:58:33] 0.003732 kWh of electricity used since the beginning.\n",
      "[codecarbon INFO @ 15:58:48] Energy consumed for RAM : 0.001644 kWh. RAM Power : 5.762899875640869 W\n",
      "[codecarbon INFO @ 15:58:48] Energy consumed for all CPUs : 0.002144 kWh. Total CPU Power : 7.5 W\n",
      "[codecarbon INFO @ 15:58:48] 0.003787 kWh of electricity used since the beginning.\n",
      "[codecarbon INFO @ 15:59:03] Energy consumed for RAM : 0.001668 kWh. RAM Power : 5.762899875640869 W\n",
      "[codecarbon INFO @ 15:59:03] Energy consumed for all CPUs : 0.002175 kWh. Total CPU Power : 7.5 W\n",
      "[codecarbon INFO @ 15:59:03] 0.003842 kWh of electricity used since the beginning.\n",
      "[codecarbon INFO @ 15:59:18] Energy consumed for RAM : 0.001692 kWh. RAM Power : 5.762899875640869 W\n",
      "[codecarbon INFO @ 15:59:18] Energy consumed for all CPUs : 0.002206 kWh. Total CPU Power : 7.5 W\n",
      "[codecarbon INFO @ 15:59:18] 0.003898 kWh of electricity used since the beginning.\n",
      "[codecarbon INFO @ 15:59:33] Energy consumed for RAM : 0.001716 kWh. RAM Power : 5.762899875640869 W\n",
      "[codecarbon INFO @ 15:59:33] Energy consumed for all CPUs : 0.002237 kWh. Total CPU Power : 7.5 W\n",
      "[codecarbon INFO @ 15:59:33] 0.003953 kWh of electricity used since the beginning.\n"
     ]
    }
   ],
   "source": [
    "# --- Fonction avec grid search et pipeline ---\n",
    "\n",
    "# --- Creation des ensembles d'entraînement, de validation et de test ---\n",
    "if movie_reviews_df is not None:\n",
    "    # 1. Séparation initiale pour créer l'ensemble de test\n",
    "    X = movie_reviews_df['review']  # Texte brut\n",
    "    y = movie_reviews_df['sentiment']\n",
    "\n",
    "    X_temp, X_test, y_temp, y_test = train_test_split(X, y, test_size=0.2, random_state=42)\n",
    "\n",
    "    # 2. Séparation de X_temp pour créer les ensembles d'entraînement et de validation\n",
    "    X_train, X_val, y_train, y_val = train_test_split(X_temp, y_temp, test_size=0.25, random_state=42)  # 0.25 * 0.8 = 0.2\n",
    "\n",
    "    print(\"Taille de l'ensemble d'entraînement:\", len(X_train))\n",
    "    print(\"Taille de l'ensemble de validation:\", len(X_val))\n",
    "    print(\"Taille de l'ensemble de test:\", len(X_test))\n",
    "\n",
    "\n",
    "    # --- GridSearchCV avec Pipeline ---\n",
    "    pipeline = Pipeline([\n",
    "        ('tfidf', TfidfVectorizer()),  # TF-IDF dans le pipeline\n",
    "        ('clf', LogisticRegression(solver='liblinear', random_state=42)),  # solver pour petits datasets\n",
    "    ])\n",
    "\n",
    "    param_grid = {\n",
    "        'tfidf__max_features': [5000, 10000],\n",
    "        'tfidf__ngram_range': [(1, 1), (1, 2)],  # Unigrammes et bigrammes\n",
    "        'tfidf__min_df': [1, 2],\n",
    "        'tfidf__max_df': [0.9, 0.95],\n",
    "        'clf__C': [1, 10],  # Valeurs de régularisation\n",
    "    }\n",
    "    # on limite le nombre d'hyperparametres pour que l'entrainement ne soit pas trop long\n",
    "\n",
    "    grid_search = GridSearchCV(pipeline, param_grid, cv=5, scoring='accuracy', verbose=3)\n",
    "\n",
    "    grid_search.fit(X_train, y_train)\n",
    "    print(\"\\nMeilleurs paramètres :\", grid_search.best_params_)\n",
    "    print(\"Meilleur score :\", grid_search.best_score_)\n",
    "    print(\"\\nRésultats complets :\")\n",
    "    print(pd.DataFrame(grid_search.cv_results_))\n",
    "\n",
    "# Test with a new review\n",
    "review = \"The movie had great visuals but the storyline was dull and predictable.\"\n"
   ]
  },
  {
   "cell_type": "markdown",
   "id": "1bd78c01-5d86-48b6-ad27-a31ab8cb060b",
   "metadata": {},
   "source": [
    "7. Learning Curve Analysis:\n",
    "\n",
    "    Goal: Diagnose your model's performance by plotting learning curves.\n",
    "   \n",
    "    Task: Analyze training and validation performance as a function of the training set size to identify underfitting or overfitting issues.\n"
   ]
  },
  {
   "cell_type": "code",
   "execution_count": 40,
   "id": "6f27b49a-3e3e-44ee-9215-79502caee218",
   "metadata": {},
   "outputs": [],
   "source": [
    "# --- Fonction pour entraîner le meilleur modèle ---\n",
    "\n",
    "def train_best_model(X_train, y_train, best_params):\n",
    "    \"\"\"\n",
    "    Entraîne un modèle de régression logistique avec les meilleurs hyperparamètres.\n",
    "\n",
    "    Args:\n",
    "        X_train: Les données d'entraînement (texte brut).\n",
    "        y_train: Les étiquettes d'entraînement.\n",
    "        best_params: Un dictionnaire contenant les meilleurs hyperparamètres\n",
    "                     (résultat de GridSearchCV).\n",
    "\n",
    "    Returns:\n",
    "        Le modèle entraîné (pipeline).\n",
    "    \"\"\"\n",
    "\n",
    "    # Création du pipeline avec les meilleurs paramètres\n",
    "    best_pipeline = Pipeline([\n",
    "        ('tfidf', TfidfVectorizer(\n",
    "            max_features=best_params['tfidf__max_features'],\n",
    "            ngram_range=best_params['tfidf__ngram_range'],\n",
    "            min_df=best_params['tfidf__min_df'],\n",
    "            max_df=best_params['tfidf__max_df']\n",
    "        )),\n",
    "        ('clf', LogisticRegression(\n",
    "            C=best_params['clf__C'],\n",
    "            solver='liblinear',\n",
    "            random_state=42\n",
    "        )),\n",
    "    ])\n",
    "\n",
    "    # Entraînement du modèle\n",
    "    best_pipeline.fit(X_train, y_train)\n",
    "    return best_pipeline\n"
   ]
  },
  {
   "cell_type": "code",
   "execution_count": null,
   "id": "d314970a",
   "metadata": {},
   "outputs": [
    {
     "name": "stderr",
     "output_type": "stream",
     "text": [
      "[codecarbon INFO @ 15:59:48] Energy consumed for RAM : 0.001740 kWh. RAM Power : 5.762899875640869 W\n",
      "[codecarbon INFO @ 15:59:48] Energy consumed for all CPUs : 0.002269 kWh. Total CPU Power : 7.5 W\n",
      "[codecarbon INFO @ 15:59:48] 0.004008 kWh of electricity used since the beginning.\n",
      "[codecarbon INFO @ 15:59:48] 0.000009 g.CO2eq/s mean an estimation of 0.27607158615521593 kg.CO2eq/year\n"
     ]
    }
   ],
   "source": [
    "# --- MODIFICATION ---\n",
    "\n",
    "# Choisir le meilleur modèle et les meilleurs paramètres\n",
    "best_params = {\n",
    "    'clf__C': 1,\n",
    "    'tfidf__max_df': 0.9,\n",
    "    'tfidf__max_features': 10000,\n",
    "    'tfidf__min_df': 2,\n",
    "    'tfidf__ngram_range': (1, 2)\n",
    "}"
   ]
  },
  {
   "cell_type": "code",
   "execution_count": 42,
   "id": "16b139c7",
   "metadata": {},
   "outputs": [
    {
     "name": "stderr",
     "output_type": "stream",
     "text": [
      "[codecarbon INFO @ 16:00:00] Energy consumed for RAM : 0.001759 kWh. RAM Power : 5.762899875640869 W\n",
      "[codecarbon INFO @ 16:00:00] Energy consumed for all CPUs : 0.002294 kWh. Total CPU Power : 7.5 W\n",
      "[codecarbon INFO @ 16:00:00] 0.004053 kWh of electricity used since the beginning.\n"
     ]
    },
    {
     "name": "stdout",
     "output_type": "stream",
     "text": [
      "\n",
      "Meilleur modèle entraîné : Pipeline(steps=[('tfidf',\n",
      "                 TfidfVectorizer(max_df=0.9, max_features=10000, min_df=2,\n",
      "                                 ngram_range=(1, 2))),\n",
      "                ('clf',\n",
      "                 LogisticRegression(C=1, random_state=42, solver='liblinear'))])\n",
      "Émissions de CO2e pour l'entraînement: 9.63492906639036e-06 kg\n"
     ]
    }
   ],
   "source": [
    "# === MAIN ===\n",
    "\n",
    "# Entraînez le meilleur modèle\n",
    "best_model = train_best_model(X_train, y_train, best_params)\n",
    "print(\"\\nMeilleur modèle entraîné :\", best_model)\n",
    "\n",
    "# Fin du suivi des émissions\n",
    "emissions = tracker.stop()  # Arrête le suivi et récupère les émissions\n",
    "print(f\"Émissions de CO2e pour l'entraînement: {emissions} kg\")"
   ]
  },
  {
   "cell_type": "code",
   "execution_count": 43,
   "id": "b330b088",
   "metadata": {},
   "outputs": [
    {
     "data": {
      "image/png": "[encoded data removed]",
      "text/plain": [
       "<Figure size 1000x600 with 1 Axes>"
      ]
     },
     "metadata": {},
     "output_type": "display_data"
    }
   ],
   "source": [
    "# --- Fonction courbe d'apprentissage (Learning Curve) ---\n",
    "\n",
    "train_sizes, train_scores, val_scores = learning_curve(\n",
    "    best_model,  # Utilisez le MEILLEUR modèle\n",
    "    X_train,\n",
    "    y_train,\n",
    "    train_sizes=np.linspace(0.1, 1.0, 10),\n",
    "    cv=5,\n",
    "    scoring='accuracy',\n",
    "    n_jobs=-1\n",
    ")\n",
    "\n",
    "# Calcul des moyennes et écarts-types\n",
    "train_scores_mean = np.mean(train_scores, axis=1)\n",
    "train_scores_std = np.std(train_scores, axis=1)\n",
    "val_scores_mean = np.mean(val_scores, axis=1)\n",
    "val_scores_std = np.std(val_scores, axis=1)\n",
    "\n",
    "# Affichage de la courbe\n",
    "plt.figure(figsize=(10, 6))\n",
    "plt.title(\"Courbe d'apprentissage\")\n",
    "plt.xlabel(\"Nombre d'exemples d'entraînement\")\n",
    "plt.ylabel(\"Score (Accuracy)\")\n",
    "\n",
    "# Courbe d'entraînement\n",
    "plt.plot(train_sizes, train_scores_mean, 'o-', color=\"r\", label=\"Score d'entraînement\")\n",
    "plt.fill_between(train_sizes, train_scores_mean - train_scores_std,\n",
    "                    train_scores_mean + train_scores_std, alpha=0.1, color=\"r\")\n",
    "\n",
    "# Courbe de validation\n",
    "plt.plot(train_sizes, val_scores_mean, 'o-', color=\"g\", label=\"Score de validation croisée\")\n",
    "plt.fill_between(train_sizes, val_scores_mean - val_scores_std,\n",
    "                    val_scores_mean + val_scores_std, alpha=0.1, color=\"g\")\n",
    "\n",
    "plt.legend(loc=\"best\")\n",
    "plt.grid()\n",
    "plt.show()\n"
   ]
  },
  {
   "cell_type": "code",
   "execution_count": 21,
   "id": "719bd51f",
   "metadata": {},
   "outputs": [
    {
     "name": "stdout",
     "output_type": "stream",
     "text": [
      "\n",
      "Performance sur l'ensemble de TEST:\n",
      "              precision    recall  f1-score   support\n",
      "\n",
      "           0       0.85      0.84      0.84       609\n",
      "           1       0.85      0.86      0.85       641\n",
      "\n",
      "    accuracy                           0.85      1250\n",
      "   macro avg       0.85      0.85      0.85      1250\n",
      "weighted avg       0.85      0.85      0.85      1250\n",
      "\n",
      "[[511  98]\n",
      " [ 91 550]]\n"
     ]
    }
   ],
   "source": [
    "\n",
    "# --- Évaluation FINALE sur l'ensemble de TEST ---\n",
    "y_pred = best_model.predict(X_test)\n",
    "print(\"\\nPerformance sur l'ensemble de TEST:\")\n",
    "print(classification_report(y_test, y_pred))\n",
    "print(confusion_matrix(y_test, y_pred))"
   ]
  },
  {
   "cell_type": "markdown",
   "id": "3c754b47-0e39-4ee2-97a0-80e11275716e",
   "metadata": {},
   "source": [
    "9. Ethical Considerations and Explainability:\n",
    "\n",
    "    Goal: Discuss the ethics in using and deploying your AI-based solution by investigating and implementing suitable explainability methods.\n",
    "    \n",
    "    Task: Understanding how a machine learning model makes predictions is crucial for ensuring transparency, fairness, and accountability in AI deployment. One of the widely used techniques for model explainability is SHAP (SHapley Additive exPlanations), which helps determine how much each feature (word) contributes to a prediction.\n",
    "    In this task, you will use SHAP to analyze the impact of individual words on sentiment classification. This will allow you to visualize which words increase or decrease the probability of a positive or negative sentiment prediction. Additionally, discuss key aspects such as potential biases in the model, fairness in outcomes, and accountability in AI decision-making. You can find more information here: https://shap.readthedocs.io/en/latest/generated/shap.Explanation.html"
   ]
  },
  {
   "cell_type": "code",
   "execution_count": null,
   "id": "9a6bcdfe-5c11-4bfe-af4a-72d53c9925ca",
   "metadata": {},
   "outputs": [],
   "source": [
    "# TASK 9: Ethical Considerations & Explainability\n",
    "\n",
    "# Show SHAP summary plot with proper feature names\n"
   ]
  },
  {
   "cell_type": "markdown",
   "id": "c9633197-d745-4879-acd9-c4ed306dda03",
   "metadata": {},
   "source": [
    "10. Deployment Considerations for Embedded Systems:\n",
    "\n",
    "    Goal: Optimize and convert the trained logistic regression model for deployment on embedded systems like Arduino\n",
    "    \n",
    "    Task: To deploy the trained logistic regression model on a resource-constrained embedded system like an Arduino, we must optimize and convert the model into a format suitable for execution in an environment with limited memory and processing power. Since embedded systems do not support direct execution of machine learning models trained in Python, we extract the model’s learned parameters—namely, the weights and bias—after training. These parameters are then quantized to fixed-point integers to eliminate the need for floating-point calculations, which are inefficient on microcontrollers.\n",
    "    Once quantization is applied, we generate a C++ .h header file containing the model’s coefficients and bias, formatted in a way that allows direct use within an Arduino sketch. The final model is optimized to perform inference using integer arithmetic, making it both lightweight and efficient for deployment on microcontrollers. You can find more information here: https://medium.com/@thommaskevin/tinyml-binomial-logistic-regression-0fdbf00e6765"
   ]
  },
  {
   "cell_type": "code",
   "execution_count": null,
   "id": "57c6df56-5cd7-4894-8b19-321c37bb3427",
   "metadata": {},
   "outputs": [],
   "source": [
    "# TASK 10: Deployment Considerations (Model Quantization & Export for Arduino)\n",
    "# Extract weights and bias from the trained logistic regression model\n",
    "\n",
    "# Apply quantization (convert to fixed-point representation)\n",
    "\n",
    "# Generate C++ header file for Arduino\n",
    "\n",
    "# Save the header file\n"
   ]
  }
 ],
 "metadata": {
  "kernelspec": {
   "display_name": "GEI1092",
   "language": "python",
   "name": "python3"
  },
  "language_info": {
   "codemirror_mode": {
    "name": "ipython",
    "version": 3
   },
   "file_extension": ".py",
   "mimetype": "text/x-python",
   "name": "python",
   "nbconvert_exporter": "python",
   "pygments_lexer": "ipython3",
   "version": "3.12.2"
  }
 },
 "nbformat": 4,
 "nbformat_minor": 5
}
